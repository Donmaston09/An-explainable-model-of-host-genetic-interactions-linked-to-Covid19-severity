{
 "cells": [
  {
   "cell_type": "markdown",
   "metadata": {},
   "source": [
    "### 3a) Training 16 full supported variants that received non-zero weights from decision-tree like models using the stratified k-fold and GridSearchCV Hyper-parameters."
   ]
  },
  {
   "cell_type": "markdown",
   "metadata": {},
   "source": [
    "Note: The analysis displayed here is only for 16 full supported variants in stratified fold 1 (i.e., 80 % training and 20 % testing). This Jupyter notebook script was further re-cycled 4-times to account for ML analyses in stratified folds 2 - 5 datasets."
   ]
  },
  {
   "cell_type": "code",
   "execution_count": 1,
   "metadata": {},
   "outputs": [
    {
     "data": {
      "text/html": [
       "<style type='text/css'>\n",
       ".datatable table.frame { margin-bottom: 0; }\n",
       ".datatable table.frame thead { border-bottom: none; }\n",
       ".datatable table.frame tr.coltypes td {  color: #FFFFFF;  line-height: 6px;  padding: 0 0.5em;}\n",
       ".datatable .bool    { background: #DDDD99; }\n",
       ".datatable .object  { background: #565656; }\n",
       ".datatable .int     { background: #5D9E5D; }\n",
       ".datatable .float   { background: #4040CC; }\n",
       ".datatable .str     { background: #CC4040; }\n",
       ".datatable .row_index {  background: var(--jp-border-color3);  border-right: 1px solid var(--jp-border-color0);  color: var(--jp-ui-font-color3);  font-size: 9px;}\n",
       ".datatable .frame tr.coltypes .row_index {  background: var(--jp-border-color0);}\n",
       ".datatable th:nth-child(2) { padding-left: 12px; }\n",
       ".datatable .hellipsis {  color: var(--jp-cell-editor-border-color);}\n",
       ".datatable .vellipsis {  background: var(--jp-layout-color0);  color: var(--jp-cell-editor-border-color);}\n",
       ".datatable .na {  color: var(--jp-cell-editor-border-color);  font-size: 80%;}\n",
       ".datatable .footer { font-size: 9px; }\n",
       ".datatable .frame_dimensions {  background: var(--jp-border-color3);  border-top: 1px solid var(--jp-border-color0);  color: var(--jp-ui-font-color3);  display: inline-block;  opacity: 0.6;  padding: 1px 10px 1px 5px;}\n",
       "</style>\n"
      ],
      "text/plain": [
       "<IPython.core.display.HTML object>"
      ]
     },
     "metadata": {},
     "output_type": "display_data"
    }
   ],
   "source": [
    "# import numpy as np\n",
    "import pandas as pd\n",
    "import numpy as np\n",
    "import matplotlib.pyplot as plt\n",
    "import seaborn as sns\n",
    "import collections\n",
    "\n",
    "#### Classifier Libraries\n",
    "import xgboost as xgb\n",
    "from sklearn.svm import SVC, LinearSVC\n",
    "from sklearn.linear_model import LogisticRegression\n",
    "from xgboost import XGBClassifier\n",
    "from sklearn.ensemble import RandomForestClassifier\n",
    "from sklearn.pipeline import Pipeline\n",
    "from sklearn.model_selection import cross_validate, StratifiedKFold\n",
    "import sys, os,gzip,operator,glob, math, csv\n",
    "import numpy as np\n",
    "from scipy import stats\n",
    "from statsmodels.sandbox.stats.multicomp import fdrcorrection0\n",
    "from scipy.cluster.hierarchy import linkage,dendrogram,ward\n",
    "import scipy.spatial.distance as ssd\n",
    "\n",
    "### Other Libraries\n",
    "from statistics import mean, stdev\n",
    "from sklearn import preprocessing, linear_model\n",
    "from sklearn.model_selection import train_test_split, StratifiedShuffleSplit, GridSearchCV, cross_val_score\n",
    "from sklearn.metrics import accuracy_score, f1_score, auc, roc_auc_score, roc_curve, precision_recall_curve, matthews_corrcoef\n",
    "from sklearn.preprocessing import StandardScaler,RobustScaler, label_binarize\n",
    "from sklearn.pipeline import make_pipeline\n",
    "from imblearn.pipeline import make_pipeline as imbalanced_make_pipeline\n",
    "from imblearn.over_sampling import SMOTE, ADASYN\n",
    "from sklearn.metrics import make_scorer, precision_score, recall_score, classification_report, confusion_matrix\n",
    "from collections import Counter\n",
    "import warnings\n",
    "warnings.filterwarnings(\"ignore\")\n"
   ]
  },
  {
   "cell_type": "markdown",
   "metadata": {},
   "source": [
    "#### Import Datasets (5-Folds 80 % training & 20 % testing datasets)"
   ]
  },
  {
   "cell_type": "code",
   "execution_count": 2,
   "metadata": {},
   "outputs": [],
   "source": [
    "# import the training and test set feature count matrices\n",
    "\n",
    "fs=\"\\t\"\n",
    "path=\"/Users/Hp/Desktop/2000_cohort_datasets_analysis/\"\n",
    "\n",
    "# assign dataset names\n",
    "list_of_names = ['featurecount_fold_1_16_full_support_variants_with_covariates_train','featurecount_fold_1_16_full_support_variants_with_covariates_test', \n",
    "                 'featurecount_fold_2_16_full_support_variants_with_covariates_train','featurecount_fold_2_16_full_support_variants_with_covariates_test', \n",
    "                'featurecount_fold_3_16_full_support_variants_with_covariates_train','featurecount_fold_3_16_full_support_variants_with_covariates_test',  \n",
    "                 'featurecount_fold_4_16_full_support_variants_with_covariates_train','featurecount_fold_4_16_full_support_variants_with_covariates_test',\n",
    "                'featurecount_fold_5_16_full_support_variants_with_covariates_train', 'featurecount_fold_5_16_full_support_variants_with_covariates_test']\n",
    " \n",
    "# create empty list\n",
    "dataframes_list = []\n",
    " \n",
    "# append datasets into the list\n",
    "for i in range(len(list_of_names)):\n",
    "    df = pd.read_csv(path+list_of_names[i]+\".csv\", delimiter=',', quotechar='\"', index_col='sample_ID')\n",
    "    dataframes_list.append(df)"
   ]
  },
  {
   "cell_type": "markdown",
   "metadata": {},
   "source": [
    "#### Define training and testing sets"
   ]
  },
  {
   "cell_type": "code",
   "execution_count": 3,
   "metadata": {},
   "outputs": [],
   "source": [
    "# define train and testing list \n",
    "train_list = [dataframes_list[0], dataframes_list[2], dataframes_list[4], \n",
    "                      dataframes_list[6], dataframes_list[8]]\n",
    "\n",
    "test_list = [dataframes_list[1], dataframes_list[3], dataframes_list[5], \n",
    "                     dataframes_list[7], dataframes_list[9]]"
   ]
  },
  {
   "cell_type": "code",
   "execution_count": 4,
   "metadata": {},
   "outputs": [
    {
     "data": {
      "text/html": [
       "<div>\n",
       "<style scoped>\n",
       "    .dataframe tbody tr th:only-of-type {\n",
       "        vertical-align: middle;\n",
       "    }\n",
       "\n",
       "    .dataframe tbody tr th {\n",
       "        vertical-align: top;\n",
       "    }\n",
       "\n",
       "    .dataframe thead th {\n",
       "        text-align: right;\n",
       "    }\n",
       "</style>\n",
       "<table border=\"1\" class=\"dataframe\">\n",
       "  <thead>\n",
       "    <tr style=\"text-align: right;\">\n",
       "      <th></th>\n",
       "      <th>age</th>\n",
       "      <th>gender</th>\n",
       "      <th>grouping</th>\n",
       "      <th>BMS1P1;FRMPD2B</th>\n",
       "      <th>CEP131</th>\n",
       "      <th>CNTFR</th>\n",
       "      <th>GFM1</th>\n",
       "      <th>GOLGA6L3</th>\n",
       "      <th>HDGFL2</th>\n",
       "      <th>LOC100996720</th>\n",
       "      <th>MIR933</th>\n",
       "      <th>PCSK5</th>\n",
       "      <th>PLEC</th>\n",
       "      <th>SECISBP2L</th>\n",
       "      <th>SPATA6</th>\n",
       "      <th>TRIM72</th>\n",
       "      <th>ZBED3</th>\n",
       "      <th>ZBTB3</th>\n",
       "      <th>ZRANB3</th>\n",
       "    </tr>\n",
       "    <tr>\n",
       "      <th>sample_ID</th>\n",
       "      <th></th>\n",
       "      <th></th>\n",
       "      <th></th>\n",
       "      <th></th>\n",
       "      <th></th>\n",
       "      <th></th>\n",
       "      <th></th>\n",
       "      <th></th>\n",
       "      <th></th>\n",
       "      <th></th>\n",
       "      <th></th>\n",
       "      <th></th>\n",
       "      <th></th>\n",
       "      <th></th>\n",
       "      <th></th>\n",
       "      <th></th>\n",
       "      <th></th>\n",
       "      <th></th>\n",
       "      <th></th>\n",
       "    </tr>\n",
       "  </thead>\n",
       "  <tbody>\n",
       "    <tr>\n",
       "      <th>AR-COV-10_hg38</th>\n",
       "      <td>79</td>\n",
       "      <td>0</td>\n",
       "      <td>1</td>\n",
       "      <td>0</td>\n",
       "      <td>2</td>\n",
       "      <td>0</td>\n",
       "      <td>0</td>\n",
       "      <td>1</td>\n",
       "      <td>0</td>\n",
       "      <td>0</td>\n",
       "      <td>0</td>\n",
       "      <td>0</td>\n",
       "      <td>0</td>\n",
       "      <td>0</td>\n",
       "      <td>1</td>\n",
       "      <td>0</td>\n",
       "      <td>0</td>\n",
       "      <td>0</td>\n",
       "      <td>0</td>\n",
       "    </tr>\n",
       "    <tr>\n",
       "      <th>AR-COV-11_hg38</th>\n",
       "      <td>62</td>\n",
       "      <td>1</td>\n",
       "      <td>1</td>\n",
       "      <td>0</td>\n",
       "      <td>2</td>\n",
       "      <td>0</td>\n",
       "      <td>0</td>\n",
       "      <td>0</td>\n",
       "      <td>0</td>\n",
       "      <td>0</td>\n",
       "      <td>0</td>\n",
       "      <td>0</td>\n",
       "      <td>0</td>\n",
       "      <td>0</td>\n",
       "      <td>0</td>\n",
       "      <td>0</td>\n",
       "      <td>0</td>\n",
       "      <td>0</td>\n",
       "      <td>0</td>\n",
       "    </tr>\n",
       "    <tr>\n",
       "      <th>AR-COV-14_hg38</th>\n",
       "      <td>70</td>\n",
       "      <td>0</td>\n",
       "      <td>1</td>\n",
       "      <td>0</td>\n",
       "      <td>1</td>\n",
       "      <td>0</td>\n",
       "      <td>0</td>\n",
       "      <td>0</td>\n",
       "      <td>0</td>\n",
       "      <td>0</td>\n",
       "      <td>0</td>\n",
       "      <td>0</td>\n",
       "      <td>0</td>\n",
       "      <td>0</td>\n",
       "      <td>0</td>\n",
       "      <td>0</td>\n",
       "      <td>0</td>\n",
       "      <td>0</td>\n",
       "      <td>0</td>\n",
       "    </tr>\n",
       "    <tr>\n",
       "      <th>AR-COV-15_hg38</th>\n",
       "      <td>51</td>\n",
       "      <td>1</td>\n",
       "      <td>1</td>\n",
       "      <td>0</td>\n",
       "      <td>2</td>\n",
       "      <td>0</td>\n",
       "      <td>0</td>\n",
       "      <td>0</td>\n",
       "      <td>0</td>\n",
       "      <td>0</td>\n",
       "      <td>0</td>\n",
       "      <td>0</td>\n",
       "      <td>0</td>\n",
       "      <td>0</td>\n",
       "      <td>0</td>\n",
       "      <td>0</td>\n",
       "      <td>0</td>\n",
       "      <td>0</td>\n",
       "      <td>0</td>\n",
       "    </tr>\n",
       "    <tr>\n",
       "      <th>AR-COV-18_hg38</th>\n",
       "      <td>48</td>\n",
       "      <td>0</td>\n",
       "      <td>1</td>\n",
       "      <td>0</td>\n",
       "      <td>2</td>\n",
       "      <td>0</td>\n",
       "      <td>0</td>\n",
       "      <td>0</td>\n",
       "      <td>0</td>\n",
       "      <td>0</td>\n",
       "      <td>0</td>\n",
       "      <td>0</td>\n",
       "      <td>0</td>\n",
       "      <td>0</td>\n",
       "      <td>0</td>\n",
       "      <td>0</td>\n",
       "      <td>0</td>\n",
       "      <td>0</td>\n",
       "      <td>0</td>\n",
       "    </tr>\n",
       "  </tbody>\n",
       "</table>\n",
       "</div>"
      ],
      "text/plain": [
       "                age  gender  grouping  BMS1P1;FRMPD2B  CEP131  CNTFR  GFM1  \\\n",
       "sample_ID                                                                    \n",
       "AR-COV-10_hg38   79       0         1               0       2      0     0   \n",
       "AR-COV-11_hg38   62       1         1               0       2      0     0   \n",
       "AR-COV-14_hg38   70       0         1               0       1      0     0   \n",
       "AR-COV-15_hg38   51       1         1               0       2      0     0   \n",
       "AR-COV-18_hg38   48       0         1               0       2      0     0   \n",
       "\n",
       "                GOLGA6L3  HDGFL2  LOC100996720  MIR933  PCSK5  PLEC  \\\n",
       "sample_ID                                                             \n",
       "AR-COV-10_hg38         1       0             0       0      0     0   \n",
       "AR-COV-11_hg38         0       0             0       0      0     0   \n",
       "AR-COV-14_hg38         0       0             0       0      0     0   \n",
       "AR-COV-15_hg38         0       0             0       0      0     0   \n",
       "AR-COV-18_hg38         0       0             0       0      0     0   \n",
       "\n",
       "                SECISBP2L  SPATA6  TRIM72  ZBED3  ZBTB3  ZRANB3  \n",
       "sample_ID                                                        \n",
       "AR-COV-10_hg38          0       1       0      0      0       0  \n",
       "AR-COV-11_hg38          0       0       0      0      0       0  \n",
       "AR-COV-14_hg38          0       0       0      0      0       0  \n",
       "AR-COV-15_hg38          0       0       0      0      0       0  \n",
       "AR-COV-18_hg38          0       0       0      0      0       0  "
      ]
     },
     "execution_count": 4,
     "metadata": {},
     "output_type": "execute_result"
    }
   ],
   "source": [
    "train_list[0].head()"
   ]
  },
  {
   "cell_type": "code",
   "execution_count": 5,
   "metadata": {},
   "outputs": [],
   "source": [
    "# Define features and targets training and testing sets all 5-folds \n",
    "features_train = []\n",
    "features_test = []\n",
    "\n",
    "target_train = []\n",
    "target_test = []\n",
    "\n",
    "# target \n",
    "for df in train_list:\n",
    "#for df in train_list:\n",
    "    y_tr = df[['grouping']]\n",
    "#convert dataframe to arrary\n",
    "    target_train.append(y_tr)\n",
    "    y_tr.values\n",
    "for ds in test_list:\n",
    "    y_ts = ds[['grouping']]\n",
    "    target_test.append(y_ts)\n",
    "    y_ts.values\n",
    "\n",
    "# features \n",
    "for df in train_list:\n",
    "        df.drop('grouping', axis = 1, inplace=True)\n",
    "        df.values\n",
    "        features_train.append(df)\n",
    "for ds in test_list:\n",
    "        ds.drop('grouping', axis = 1, inplace=True)\n",
    "        #convert dataframe to arrary \n",
    "        ds.values\n",
    "        features_test.append(ds)"
   ]
  },
  {
   "cell_type": "code",
   "execution_count": 6,
   "metadata": {},
   "outputs": [
    {
     "data": {
      "text/html": [
       "<div>\n",
       "<style scoped>\n",
       "    .dataframe tbody tr th:only-of-type {\n",
       "        vertical-align: middle;\n",
       "    }\n",
       "\n",
       "    .dataframe tbody tr th {\n",
       "        vertical-align: top;\n",
       "    }\n",
       "\n",
       "    .dataframe thead th {\n",
       "        text-align: right;\n",
       "    }\n",
       "</style>\n",
       "<table border=\"1\" class=\"dataframe\">\n",
       "  <thead>\n",
       "    <tr style=\"text-align: right;\">\n",
       "      <th></th>\n",
       "      <th>age</th>\n",
       "      <th>gender</th>\n",
       "      <th>BMS1P1;FRMPD2B</th>\n",
       "      <th>CEP131</th>\n",
       "      <th>CNTFR</th>\n",
       "      <th>GFM1</th>\n",
       "      <th>GOLGA6L3</th>\n",
       "      <th>HDGFL2</th>\n",
       "      <th>LOC100996720</th>\n",
       "      <th>MIR933</th>\n",
       "      <th>PCSK5</th>\n",
       "      <th>PLEC</th>\n",
       "      <th>SECISBP2L</th>\n",
       "      <th>SPATA6</th>\n",
       "      <th>TRIM72</th>\n",
       "      <th>ZBED3</th>\n",
       "      <th>ZBTB3</th>\n",
       "      <th>ZRANB3</th>\n",
       "    </tr>\n",
       "    <tr>\n",
       "      <th>sample_ID</th>\n",
       "      <th></th>\n",
       "      <th></th>\n",
       "      <th></th>\n",
       "      <th></th>\n",
       "      <th></th>\n",
       "      <th></th>\n",
       "      <th></th>\n",
       "      <th></th>\n",
       "      <th></th>\n",
       "      <th></th>\n",
       "      <th></th>\n",
       "      <th></th>\n",
       "      <th></th>\n",
       "      <th></th>\n",
       "      <th></th>\n",
       "      <th></th>\n",
       "      <th></th>\n",
       "      <th></th>\n",
       "    </tr>\n",
       "  </thead>\n",
       "  <tbody>\n",
       "    <tr>\n",
       "      <th>AR-COV-10_hg38</th>\n",
       "      <td>79</td>\n",
       "      <td>0</td>\n",
       "      <td>0</td>\n",
       "      <td>2</td>\n",
       "      <td>0</td>\n",
       "      <td>0</td>\n",
       "      <td>1</td>\n",
       "      <td>0</td>\n",
       "      <td>0</td>\n",
       "      <td>0</td>\n",
       "      <td>0</td>\n",
       "      <td>0</td>\n",
       "      <td>0</td>\n",
       "      <td>1</td>\n",
       "      <td>0</td>\n",
       "      <td>0</td>\n",
       "      <td>0</td>\n",
       "      <td>0</td>\n",
       "    </tr>\n",
       "    <tr>\n",
       "      <th>AR-COV-11_hg38</th>\n",
       "      <td>62</td>\n",
       "      <td>1</td>\n",
       "      <td>0</td>\n",
       "      <td>2</td>\n",
       "      <td>0</td>\n",
       "      <td>0</td>\n",
       "      <td>0</td>\n",
       "      <td>0</td>\n",
       "      <td>0</td>\n",
       "      <td>0</td>\n",
       "      <td>0</td>\n",
       "      <td>0</td>\n",
       "      <td>0</td>\n",
       "      <td>0</td>\n",
       "      <td>0</td>\n",
       "      <td>0</td>\n",
       "      <td>0</td>\n",
       "      <td>0</td>\n",
       "    </tr>\n",
       "    <tr>\n",
       "      <th>AR-COV-14_hg38</th>\n",
       "      <td>70</td>\n",
       "      <td>0</td>\n",
       "      <td>0</td>\n",
       "      <td>1</td>\n",
       "      <td>0</td>\n",
       "      <td>0</td>\n",
       "      <td>0</td>\n",
       "      <td>0</td>\n",
       "      <td>0</td>\n",
       "      <td>0</td>\n",
       "      <td>0</td>\n",
       "      <td>0</td>\n",
       "      <td>0</td>\n",
       "      <td>0</td>\n",
       "      <td>0</td>\n",
       "      <td>0</td>\n",
       "      <td>0</td>\n",
       "      <td>0</td>\n",
       "    </tr>\n",
       "    <tr>\n",
       "      <th>AR-COV-15_hg38</th>\n",
       "      <td>51</td>\n",
       "      <td>1</td>\n",
       "      <td>0</td>\n",
       "      <td>2</td>\n",
       "      <td>0</td>\n",
       "      <td>0</td>\n",
       "      <td>0</td>\n",
       "      <td>0</td>\n",
       "      <td>0</td>\n",
       "      <td>0</td>\n",
       "      <td>0</td>\n",
       "      <td>0</td>\n",
       "      <td>0</td>\n",
       "      <td>0</td>\n",
       "      <td>0</td>\n",
       "      <td>0</td>\n",
       "      <td>0</td>\n",
       "      <td>0</td>\n",
       "    </tr>\n",
       "    <tr>\n",
       "      <th>AR-COV-18_hg38</th>\n",
       "      <td>48</td>\n",
       "      <td>0</td>\n",
       "      <td>0</td>\n",
       "      <td>2</td>\n",
       "      <td>0</td>\n",
       "      <td>0</td>\n",
       "      <td>0</td>\n",
       "      <td>0</td>\n",
       "      <td>0</td>\n",
       "      <td>0</td>\n",
       "      <td>0</td>\n",
       "      <td>0</td>\n",
       "      <td>0</td>\n",
       "      <td>0</td>\n",
       "      <td>0</td>\n",
       "      <td>0</td>\n",
       "      <td>0</td>\n",
       "      <td>0</td>\n",
       "    </tr>\n",
       "    <tr>\n",
       "      <th>...</th>\n",
       "      <td>...</td>\n",
       "      <td>...</td>\n",
       "      <td>...</td>\n",
       "      <td>...</td>\n",
       "      <td>...</td>\n",
       "      <td>...</td>\n",
       "      <td>...</td>\n",
       "      <td>...</td>\n",
       "      <td>...</td>\n",
       "      <td>...</td>\n",
       "      <td>...</td>\n",
       "      <td>...</td>\n",
       "      <td>...</td>\n",
       "      <td>...</td>\n",
       "      <td>...</td>\n",
       "      <td>...</td>\n",
       "      <td>...</td>\n",
       "      <td>...</td>\n",
       "    </tr>\n",
       "    <tr>\n",
       "      <th>SPC-COV-6_hg38</th>\n",
       "      <td>86</td>\n",
       "      <td>0</td>\n",
       "      <td>0</td>\n",
       "      <td>2</td>\n",
       "      <td>0</td>\n",
       "      <td>0</td>\n",
       "      <td>0</td>\n",
       "      <td>0</td>\n",
       "      <td>0</td>\n",
       "      <td>0</td>\n",
       "      <td>0</td>\n",
       "      <td>0</td>\n",
       "      <td>0</td>\n",
       "      <td>0</td>\n",
       "      <td>0</td>\n",
       "      <td>0</td>\n",
       "      <td>0</td>\n",
       "      <td>0</td>\n",
       "    </tr>\n",
       "    <tr>\n",
       "      <th>SPL-COV-2_hg38</th>\n",
       "      <td>73</td>\n",
       "      <td>1</td>\n",
       "      <td>0</td>\n",
       "      <td>2</td>\n",
       "      <td>1</td>\n",
       "      <td>0</td>\n",
       "      <td>0</td>\n",
       "      <td>0</td>\n",
       "      <td>0</td>\n",
       "      <td>0</td>\n",
       "      <td>0</td>\n",
       "      <td>0</td>\n",
       "      <td>0</td>\n",
       "      <td>0</td>\n",
       "      <td>0</td>\n",
       "      <td>0</td>\n",
       "      <td>0</td>\n",
       "      <td>0</td>\n",
       "    </tr>\n",
       "    <tr>\n",
       "      <th>USCA1-VALTIBERINA2_hg38</th>\n",
       "      <td>57</td>\n",
       "      <td>0</td>\n",
       "      <td>0</td>\n",
       "      <td>2</td>\n",
       "      <td>0</td>\n",
       "      <td>0</td>\n",
       "      <td>0</td>\n",
       "      <td>0</td>\n",
       "      <td>2</td>\n",
       "      <td>0</td>\n",
       "      <td>1</td>\n",
       "      <td>0</td>\n",
       "      <td>0</td>\n",
       "      <td>0</td>\n",
       "      <td>1</td>\n",
       "      <td>0</td>\n",
       "      <td>0</td>\n",
       "      <td>0</td>\n",
       "    </tr>\n",
       "    <tr>\n",
       "      <th>USCA1-VALTIBERINA3_hg38</th>\n",
       "      <td>24</td>\n",
       "      <td>0</td>\n",
       "      <td>0</td>\n",
       "      <td>2</td>\n",
       "      <td>0</td>\n",
       "      <td>0</td>\n",
       "      <td>0</td>\n",
       "      <td>0</td>\n",
       "      <td>2</td>\n",
       "      <td>0</td>\n",
       "      <td>0</td>\n",
       "      <td>0</td>\n",
       "      <td>0</td>\n",
       "      <td>0</td>\n",
       "      <td>0</td>\n",
       "      <td>0</td>\n",
       "      <td>0</td>\n",
       "      <td>0</td>\n",
       "    </tr>\n",
       "    <tr>\n",
       "      <th>USCA1-VALTIBERINA6_hg38</th>\n",
       "      <td>40</td>\n",
       "      <td>0</td>\n",
       "      <td>0</td>\n",
       "      <td>2</td>\n",
       "      <td>0</td>\n",
       "      <td>0</td>\n",
       "      <td>0</td>\n",
       "      <td>1</td>\n",
       "      <td>0</td>\n",
       "      <td>0</td>\n",
       "      <td>0</td>\n",
       "      <td>0</td>\n",
       "      <td>0</td>\n",
       "      <td>0</td>\n",
       "      <td>0</td>\n",
       "      <td>0</td>\n",
       "      <td>0</td>\n",
       "      <td>0</td>\n",
       "    </tr>\n",
       "  </tbody>\n",
       "</table>\n",
       "<p>672 rows × 18 columns</p>\n",
       "</div>"
      ],
      "text/plain": [
       "                         age  gender  BMS1P1;FRMPD2B  CEP131  CNTFR  GFM1  \\\n",
       "sample_ID                                                                   \n",
       "AR-COV-10_hg38            79       0               0       2      0     0   \n",
       "AR-COV-11_hg38            62       1               0       2      0     0   \n",
       "AR-COV-14_hg38            70       0               0       1      0     0   \n",
       "AR-COV-15_hg38            51       1               0       2      0     0   \n",
       "AR-COV-18_hg38            48       0               0       2      0     0   \n",
       "...                      ...     ...             ...     ...    ...   ...   \n",
       "SPC-COV-6_hg38            86       0               0       2      0     0   \n",
       "SPL-COV-2_hg38            73       1               0       2      1     0   \n",
       "USCA1-VALTIBERINA2_hg38   57       0               0       2      0     0   \n",
       "USCA1-VALTIBERINA3_hg38   24       0               0       2      0     0   \n",
       "USCA1-VALTIBERINA6_hg38   40       0               0       2      0     0   \n",
       "\n",
       "                         GOLGA6L3  HDGFL2  LOC100996720  MIR933  PCSK5  PLEC  \\\n",
       "sample_ID                                                                      \n",
       "AR-COV-10_hg38                  1       0             0       0      0     0   \n",
       "AR-COV-11_hg38                  0       0             0       0      0     0   \n",
       "AR-COV-14_hg38                  0       0             0       0      0     0   \n",
       "AR-COV-15_hg38                  0       0             0       0      0     0   \n",
       "AR-COV-18_hg38                  0       0             0       0      0     0   \n",
       "...                           ...     ...           ...     ...    ...   ...   \n",
       "SPC-COV-6_hg38                  0       0             0       0      0     0   \n",
       "SPL-COV-2_hg38                  0       0             0       0      0     0   \n",
       "USCA1-VALTIBERINA2_hg38         0       0             2       0      1     0   \n",
       "USCA1-VALTIBERINA3_hg38         0       0             2       0      0     0   \n",
       "USCA1-VALTIBERINA6_hg38         0       1             0       0      0     0   \n",
       "\n",
       "                         SECISBP2L  SPATA6  TRIM72  ZBED3  ZBTB3  ZRANB3  \n",
       "sample_ID                                                                 \n",
       "AR-COV-10_hg38                   0       1       0      0      0       0  \n",
       "AR-COV-11_hg38                   0       0       0      0      0       0  \n",
       "AR-COV-14_hg38                   0       0       0      0      0       0  \n",
       "AR-COV-15_hg38                   0       0       0      0      0       0  \n",
       "AR-COV-18_hg38                   0       0       0      0      0       0  \n",
       "...                            ...     ...     ...    ...    ...     ...  \n",
       "SPC-COV-6_hg38                   0       0       0      0      0       0  \n",
       "SPL-COV-2_hg38                   0       0       0      0      0       0  \n",
       "USCA1-VALTIBERINA2_hg38          0       0       1      0      0       0  \n",
       "USCA1-VALTIBERINA3_hg38          0       0       0      0      0       0  \n",
       "USCA1-VALTIBERINA6_hg38          0       0       0      0      0       0  \n",
       "\n",
       "[672 rows x 18 columns]"
      ]
     },
     "execution_count": 6,
     "metadata": {},
     "output_type": "execute_result"
    }
   ],
   "source": [
    "features_train[0]"
   ]
  },
  {
   "cell_type": "markdown",
   "metadata": {},
   "source": [
    "#### Standardized features in all 5-folds "
   ]
  },
  {
   "cell_type": "code",
   "execution_count": 7,
   "metadata": {},
   "outputs": [],
   "source": [
    "scaler1 = StandardScaler()\n",
    "scaler2 = StandardScaler()\n",
    "scaler3 = StandardScaler()\n",
    "scaler4 = StandardScaler()\n",
    "scaler5 = StandardScaler()\n",
    "df1 = features_train[0] # train set fold 1\n",
    "df2 = features_test[0] # test set fold 1\n",
    "\n",
    "df1= scaler1.fit_transform(df1) # normalize df1 and df2\n",
    "df2 = scaler1.transform(df2)\n",
    "\n",
    "df3 = features_train[1] # train set fold 2\n",
    "df4 = features_test[1] # test set fold 2\n",
    "\n",
    "df3= scaler2.fit_transform(df3) # normalize df3 and df4\n",
    "df4 = scaler2.transform(df4)\n",
    "\n",
    "df5 = features_train[2] # train set fold 3\n",
    "df6 = features_test[2] # test set fold 3\n",
    "\n",
    "df5 = scaler3.fit_transform(df5) # normalize df5 and df6\n",
    "df6 = scaler3.transform(df6)\n",
    "\n",
    "df7 = features_train[3] # train set fold 4\n",
    "df8 = features_test[3] # test set fold 4\n",
    "\n",
    "df7= scaler4.fit_transform(df7) # normalize df7 and df8\n",
    "df8 = scaler4.transform(df8)\n",
    "\n",
    "df9 = features_train[4] # train set fold 5\n",
    "df10 = features_test[4] # test set fold 5\n",
    "\n",
    "df9= scaler5.fit_transform(df9) # normalize df9 and df10\n",
    "df10 = scaler5.transform(df10)"
   ]
  },
  {
   "cell_type": "code",
   "execution_count": 8,
   "metadata": {},
   "outputs": [],
   "source": [
    "### start by fitting fold 1 \n",
    "\n",
    "X_train = df1     # train set fold 1\n",
    "X_test = df2     # test set fold 1\n",
    "\n",
    "y_train = target_train[0].values   # target train fold 1\n",
    "y_test = target_test[0].values     # target test fold 1\n"
   ]
  },
  {
   "cell_type": "code",
   "execution_count": 9,
   "metadata": {},
   "outputs": [],
   "source": [
    "# Create   classifiers object: \n",
    "svm = SVC(C=1, class_weight='balanced', kernel='linear', probability=True)\n",
    "\n",
    "lr = LogisticRegression(C=0.3, class_weight='balanced', random_state=42,solver='sag')\n",
    "\n",
    "rf = RandomForestClassifier(class_weight='balanced', max_depth=80, max_features=2,\n",
    "                       min_samples_leaf=3, min_samples_split=10,\n",
    "                       n_estimators=300)\n",
    "\n",
    "# import XGBoost\n",
    "import xgboost as xgboost\n",
    "\n",
    "# define data_dmatrix\n",
    "data_dmatrix = xgb.DMatrix(data=X_train,label=y_train)\n",
    "xgboost = XGBClassifier(class_weight='balanced', objective=\"binary:logistic\", random_state=42)"
   ]
  },
  {
   "cell_type": "code",
   "execution_count": 10,
   "metadata": {},
   "outputs": [],
   "source": [
    "## Defined Cross-validation K-fold random Split \n",
    "from sklearn.model_selection import RepeatedKFold\n",
    "cv = RepeatedKFold(n_splits=10, n_repeats=3, random_state=1)"
   ]
  },
  {
   "cell_type": "markdown",
   "metadata": {},
   "source": [
    "#### Define GridSearchCV Hyper-parameters"
   ]
  },
  {
   "cell_type": "code",
   "execution_count": 11,
   "metadata": {},
   "outputs": [],
   "source": [
    "## SVC classifier \n",
    "clf = svm\n",
    "# declare parameters for hyperparameter tuning\n",
    "params_svc = [{'C':[1, 10, 100, 1000], 'kernel':['linear']},\n",
    "               {'C':[1, 10, 100, 1000], 'kernel':['rbf'], 'gamma':[0.1, 0.2, 0.3, 0.4, 0.5, 0.6, 0.7, 0.8, 0.9]},\n",
    "               {'C':[1, 10, 100, 1000], 'kernel':['poly'], 'degree': [2,3,4] ,'gamma':[0.01,0.02,0.03,0.04,0.05]} \n",
    "              ]\n",
    "\n",
    "## Logistic Regression \n",
    "clf = lr\n",
    "params_log = [{\n",
    "    'solver': ['newton-cg', 'lbfgs', 'sag'],\n",
    "    'C': [0.3, 0.5, 0.7, 1],\n",
    "    'penalty': ['l2']\n",
    "    },{\n",
    "    'solver': ['liblinear','saga'],\n",
    "    'C': [0.3, 0.5, 0.7, 1],\n",
    "    'penalty': ['l1','l2']\n",
    "}]\n",
    "\n",
    "##  Random Forest \n",
    "#hyper parameters set\n",
    "params_rf = {\n",
    "    'bootstrap': [True],\n",
    "    'max_depth': [80, 90, 100, 110],\n",
    "    'max_features': [2, 3],\n",
    "    'min_samples_leaf': [3, 4, 5],\n",
    "    'min_samples_split': [8, 10, 12],\n",
    "    'n_estimators': [50, 100, 300]}\n",
    "\n",
    "### XGBoost Classifier \n",
    "# Hyper-parameters set \n",
    "params_xgboost = {\n",
    "    'max_depth': range (2, 10, 1),\n",
    "    'n_estimators': range(60, 220, 40),\n",
    "    'learning_rate': [0.1, 0.01, 0.05]}\n",
    "\n",
    "\n",
    "# SVC Gridsearch CV \n",
    "cv_grid_svm = GridSearchCV(estimator = svm,  \n",
    "                           param_grid = params_svc,\n",
    "                           scoring=make_scorer(accuracy_score),\n",
    "                           cv = cv,\n",
    "                           verbose=0)\n",
    "\n",
    "# Logistic Reg. Gridsearch CV \n",
    "cv_grid_lr = GridSearchCV(\n",
    "    estimator=lr,\n",
    "    param_grid=params_log,\n",
    "    n_jobs=-1,\n",
    "    cv = cv, \n",
    "    scoring=make_scorer(accuracy_score)\n",
    ")\n",
    "\n",
    "# Random Forest Gridsearch CV  \n",
    "cv_grid_rf = GridSearchCV(\n",
    "    estimator=rf,\n",
    "    param_grid=params_rf,\n",
    "    n_jobs=-1,\n",
    "    cv = cv,\n",
    "    scoring=make_scorer(accuracy_score)\n",
    ")\n",
    "\n",
    "# XGBoost classifier GridSearch CV \n",
    "cv_grid_xgboost = GridSearchCV(\n",
    "    estimator=xgboost,\n",
    "    param_grid=params_xgboost,\n",
    "    n_jobs=10,\n",
    "    cv = cv,\n",
    "    verbose=True,\n",
    "    scoring=make_scorer(accuracy_score)\n",
    ")"
   ]
  },
  {
   "cell_type": "markdown",
   "metadata": {},
   "source": [
    "#### Fit ML Models Fold 1 - 5"
   ]
  },
  {
   "cell_type": "markdown",
   "metadata": {},
   "source": [
    "#### 1) SVC model "
   ]
  },
  {
   "cell_type": "code",
   "execution_count": 12,
   "metadata": {},
   "outputs": [
    {
     "name": "stdout",
     "output_type": "stream",
     "text": [
      "SVC Best GridSearch CV Score: 0.8059628328943518\n"
     ]
    }
   ],
   "source": [
    "### Fit Models using Best Grid Search CV Parameters \n",
    "svm_model_cv = cv_grid_svm.fit(X_train, y_train)\n",
    "# SVC Best GridSearch CV Best score \n",
    "print('SVC Best GridSearch CV Score:', svm_model_cv.best_score_)"
   ]
  },
  {
   "cell_type": "code",
   "execution_count": 13,
   "metadata": {},
   "outputs": [
    {
     "name": "stdout",
     "output_type": "stream",
     "text": [
      "accuracy of the best classifier after CV is 76.331%\n"
     ]
    }
   ],
   "source": [
    "### Validation of Model classifiers on 20 % test set in each fold \n",
    "# Support Vector Classifier \n",
    "y_predict_svm = svm_model_cv.predict(X_test)\n",
    "accuracy = accuracy_score(y_test,y_predict_svm)\n",
    "print('accuracy of the best classifier after CV is %.3f%%' % (accuracy*100))"
   ]
  },
  {
   "cell_type": "markdown",
   "metadata": {},
   "source": [
    "**Test set performance metrics report** "
   ]
  },
  {
   "cell_type": "code",
   "execution_count": 14,
   "metadata": {},
   "outputs": [
    {
     "name": "stdout",
     "output_type": "stream",
     "text": [
      "Test Matthews correlation coefficient 0.5110711241406442\n",
      "Test F1- score 0.8058252427184465\n",
      "Test Precision score 0.8556701030927835\n",
      "Test Recall score 0.7614678899082569\n",
      "              precision    recall  f1-score   support\n",
      "\n",
      "           0       0.64      0.77      0.70        60\n",
      "           1       0.86      0.76      0.81       109\n",
      "\n",
      "    accuracy                           0.76       169\n",
      "   macro avg       0.75      0.76      0.75       169\n",
      "weighted avg       0.78      0.76      0.77       169\n",
      "\n"
     ]
    },
    {
     "data": {
      "image/png": "[encoded data removed]",
      "text/plain": [
       "<Figure size 432x288 with 2 Axes>"
      ]
     },
     "metadata": {
      "needs_background": "light"
     },
     "output_type": "display_data"
    }
   ],
   "source": [
    "#Classification reports SVC \n",
    "print('Test Matthews correlation coefficient %s' % matthews_corrcoef(y_test, y_predict_svm))\n",
    "print('Test F1- score %s' % f1_score(y_test, y_predict_svm))\n",
    "print('Test Precision score %s' % precision_score(y_test, y_predict_svm))\n",
    "print('Test Recall score %s' % recall_score(y_test, y_predict_svm))\n",
    "print(classification_report(y_test, y_predict_svm))\n",
    "confusion_matrix(y_test, y_predict_svm)\n",
    "conf_matrix = confusion_matrix(y_test,y_predict_svm)\n",
    "sns.heatmap(conf_matrix, annot=True,fmt='d', cmap=plt.cm.copper)\n",
    "plt.show()"
   ]
  },
  {
   "cell_type": "markdown",
   "metadata": {},
   "source": [
    "#### 2) Logistic Regression Model "
   ]
  },
  {
   "cell_type": "code",
   "execution_count": 15,
   "metadata": {},
   "outputs": [
    {
     "name": "stdout",
     "output_type": "stream",
     "text": [
      "Logistic Reg. Best GridSearch CV Score: 0.8099209833187007\n"
     ]
    }
   ],
   "source": [
    "### Fit Models using Best Grid Search CV Parameters\n",
    "log_reg_model_cv = cv_grid_lr.fit(X_train, y_train)\n",
    "# Logistic Reg. Best GridSearch CV Best score \n",
    "print('Logistic Reg. Best GridSearch CV Score:', log_reg_model_cv.best_score_)"
   ]
  },
  {
   "cell_type": "code",
   "execution_count": 16,
   "metadata": {},
   "outputs": [
    {
     "name": "stdout",
     "output_type": "stream",
     "text": [
      "accuracy_score of the best classifier after CV is 75.148%\n"
     ]
    }
   ],
   "source": [
    "### Validation of Model classifiers on 20 % test set in each fold \n",
    "# Logistic Regression Classifier \n",
    "y_predict_log = log_reg_model_cv.predict(X_test)\n",
    "accuracy = accuracy_score(y_test,y_predict_log)\n",
    "print('accuracy_score of the best classifier after CV is %.3f%%' % (accuracy*100))"
   ]
  },
  {
   "cell_type": "code",
   "execution_count": 17,
   "metadata": {},
   "outputs": [
    {
     "name": "stdout",
     "output_type": "stream",
     "text": [
      "Test Matthews correlation coefficient 0.4860650384487597\n",
      "Test F1- score 0.796116504854369\n",
      "Test Precision score 0.845360824742268\n",
      "Test Recall score 0.7522935779816514\n",
      "              precision    recall  f1-score   support\n",
      "\n",
      "           0       0.62      0.75      0.68        60\n",
      "           1       0.85      0.75      0.80       109\n",
      "\n",
      "    accuracy                           0.75       169\n",
      "   macro avg       0.74      0.75      0.74       169\n",
      "weighted avg       0.77      0.75      0.76       169\n",
      "\n"
     ]
    },
    {
     "data": {
      "image/png": "[encoded data removed]",
      "text/plain": [
       "<Figure size 432x288 with 2 Axes>"
      ]
     },
     "metadata": {
      "needs_background": "light"
     },
     "output_type": "display_data"
    }
   ],
   "source": [
    "#Classification reports Logreg\n",
    "print('Test Matthews correlation coefficient %s' % matthews_corrcoef(y_test, y_predict_log))\n",
    "print('Test F1- score %s' % f1_score(y_test, y_predict_log))\n",
    "print('Test Precision score %s' % precision_score(y_test, y_predict_log))\n",
    "print('Test Recall score %s' % recall_score(y_test, y_predict_log))\n",
    "print(classification_report(y_test, y_predict_log))\n",
    "confusion_matrix(y_test, y_predict_log)\n",
    "conf_matrix = confusion_matrix(y_test,y_predict_log)\n",
    "sns.heatmap(conf_matrix, annot=True,fmt='d', cmap=plt.cm.copper)\n",
    "plt.show()"
   ]
  },
  {
   "cell_type": "markdown",
   "metadata": {},
   "source": [
    "#### 3) Random Forest Model "
   ]
  },
  {
   "cell_type": "code",
   "execution_count": 18,
   "metadata": {},
   "outputs": [
    {
     "name": "stdout",
     "output_type": "stream",
     "text": [
      "Random Forest Best GridSearch CV Score:  0.7900863330406788\n"
     ]
    }
   ],
   "source": [
    "## Random Forest Model \n",
    "rf_model_cv  = cv_grid_rf.fit(X_train, y_train)\n",
    "# Random Forest Best GridSearch CV Best score \n",
    "print('Random Forest Best GridSearch CV Score: ', rf_model_cv.best_score_)"
   ]
  },
  {
   "cell_type": "code",
   "execution_count": 19,
   "metadata": {},
   "outputs": [
    {
     "name": "stdout",
     "output_type": "stream",
     "text": [
      "accuracy_score of the best classifier after CV is 77.515%\n"
     ]
    }
   ],
   "source": [
    "### validation of Best Grid Search CV model on test set\n",
    "# Random Forest Classifier \n",
    "y_predict_rf = rf_model_cv.predict(X_test)\n",
    "accuracy = accuracy_score(y_test,y_predict_rf)\n",
    "print('accuracy_score of the best classifier after CV is %.3f%%' % (accuracy*100))"
   ]
  },
  {
   "cell_type": "code",
   "execution_count": 20,
   "metadata": {},
   "outputs": [
    {
     "name": "stdout",
     "output_type": "stream",
     "text": [
      "Test Accuracy score 0.7751479289940828\n",
      "Test Matthews correlation coefficient 0.5308832911380296\n",
      "Test F1- score 0.8173076923076924\n",
      "Test Precision score 0.8585858585858586\n",
      "Test Recall score 0.7798165137614679\n",
      "              precision    recall  f1-score   support\n",
      "\n",
      "           0       0.66      0.77      0.71        60\n",
      "           1       0.86      0.78      0.82       109\n",
      "\n",
      "    accuracy                           0.78       169\n",
      "   macro avg       0.76      0.77      0.76       169\n",
      "weighted avg       0.79      0.78      0.78       169\n",
      "\n"
     ]
    },
    {
     "data": {
      "image/png": "[encoded data removed]",
      "text/plain": [
       "<Figure size 432x288 with 2 Axes>"
      ]
     },
     "metadata": {
      "needs_background": "light"
     },
     "output_type": "display_data"
    }
   ],
   "source": [
    "#Classification reports Random Forest \n",
    "print('Test Accuracy score %s' % accuracy_score(y_test, y_predict_rf))\n",
    "print('Test Matthews correlation coefficient %s' % matthews_corrcoef(y_test, y_predict_rf))\n",
    "print('Test F1- score %s' % f1_score(y_test, y_predict_rf))\n",
    "print('Test Precision score %s' % precision_score(y_test, y_predict_rf))\n",
    "print('Test Recall score %s' % recall_score(y_test, y_predict_rf))\n",
    "print(classification_report(y_test, y_predict_rf))\n",
    "confusion_matrix(y_test, y_predict_rf)\n",
    "conf_matrix = confusion_matrix(y_test,y_predict_rf)\n",
    "sns.heatmap(conf_matrix, annot=True,fmt='d', cmap=plt.cm.copper)\n",
    "plt.show()"
   ]
  },
  {
   "cell_type": "markdown",
   "metadata": {},
   "source": [
    "#### 4) XGBOOST Model "
   ]
  },
  {
   "cell_type": "code",
   "execution_count": 21,
   "metadata": {},
   "outputs": [
    {
     "name": "stdout",
     "output_type": "stream",
     "text": [
      "Fitting 30 folds for each of 96 candidates, totalling 2880 fits\n"
     ]
    },
    {
     "name": "stderr",
     "output_type": "stream",
     "text": [
      "[Parallel(n_jobs=10)]: Using backend LokyBackend with 10 concurrent workers.\n",
      "[Parallel(n_jobs=10)]: Done  30 tasks      | elapsed:    3.7s\n",
      "[Parallel(n_jobs=10)]: Done 180 tasks      | elapsed:    7.7s\n",
      "[Parallel(n_jobs=10)]: Done 430 tasks      | elapsed:   15.4s\n",
      "[Parallel(n_jobs=10)]: Done 780 tasks      | elapsed:   29.6s\n",
      "[Parallel(n_jobs=10)]: Done 1230 tasks      | elapsed:   46.2s\n",
      "[Parallel(n_jobs=10)]: Done 1780 tasks      | elapsed:  1.2min\n",
      "[Parallel(n_jobs=10)]: Done 2430 tasks      | elapsed:  1.5min\n",
      "[Parallel(n_jobs=10)]: Done 2880 out of 2880 | elapsed:  1.9min finished\n"
     ]
    },
    {
     "name": "stdout",
     "output_type": "stream",
     "text": [
      "XGBoost Best GridSearch CV Score:  0.8005414105940886\n"
     ]
    }
   ],
   "source": [
    "## XGboost Model \n",
    "xgboost_model_cv  = cv_grid_xgboost.fit(X_train, y_train)\n",
    "# XGBoost Best GridSearch CV Best score \n",
    "print('XGBoost Best GridSearch CV Score: ', xgboost_model_cv.best_score_)"
   ]
  },
  {
   "cell_type": "code",
   "execution_count": 22,
   "metadata": {},
   "outputs": [
    {
     "name": "stdout",
     "output_type": "stream",
     "text": [
      "accuracy_score of the best classifier after CV is 76.923%\n"
     ]
    }
   ],
   "source": [
    "### validation of Best Grid Search CV model on test set\n",
    "y_predict_xgboost = xgboost_model_cv.predict(X_test)\n",
    "accuracy = accuracy_score(y_test,y_predict_xgboost)\n",
    "print('accuracy_score of the best classifier after CV is %.3f%%' % (accuracy*100))\n"
   ]
  },
  {
   "cell_type": "code",
   "execution_count": 23,
   "metadata": {},
   "outputs": [
    {
     "name": "stdout",
     "output_type": "stream",
     "text": [
      "Test Accuracy score 0.7692307692307693\n",
      "Test Matthews correlation coefficient 0.5158100734869863\n",
      "Test F1- score 0.8133971291866028\n",
      "Test Precision score 0.85\n",
      "Test Recall score 0.7798165137614679\n",
      "              precision    recall  f1-score   support\n",
      "\n",
      "           0       0.65      0.75      0.70        60\n",
      "           1       0.85      0.78      0.81       109\n",
      "\n",
      "    accuracy                           0.77       169\n",
      "   macro avg       0.75      0.76      0.76       169\n",
      "weighted avg       0.78      0.77      0.77       169\n",
      "\n"
     ]
    },
    {
     "data": {
      "image/png": "[encoded data removed]",
      "text/plain": [
       "<Figure size 432x288 with 2 Axes>"
      ]
     },
     "metadata": {
      "needs_background": "light"
     },
     "output_type": "display_data"
    }
   ],
   "source": [
    "#Classification reports XGBoost classifier  \n",
    "print('Test Accuracy score %s' % accuracy_score(y_test, y_predict_xgboost))\n",
    "print('Test Matthews correlation coefficient %s' % matthews_corrcoef(y_test, y_predict_xgboost))\n",
    "print('Test F1- score %s' % f1_score(y_test, y_predict_xgboost))\n",
    "print('Test Precision score %s' % precision_score(y_test, y_predict_xgboost))\n",
    "print('Test Recall score %s' % recall_score(y_test, y_predict_xgboost))\n",
    "print(classification_report(y_test, y_predict_xgboost))\n",
    "confusion_matrix(y_test, y_predict_xgboost)\n",
    "conf_matrix = confusion_matrix(y_test,y_predict_xgboost)\n",
    "sns.heatmap(conf_matrix, annot=True,fmt='d', cmap=plt.cm.copper)\n",
    "plt.show()"
   ]
  },
  {
   "cell_type": "markdown",
   "metadata": {},
   "source": [
    "#### ROC/AUC Curve interpretations"
   ]
  },
  {
   "cell_type": "markdown",
   "metadata": {},
   "source": [
    "**SVC Classifier**"
   ]
  },
  {
   "cell_type": "code",
   "execution_count": 24,
   "metadata": {},
   "outputs": [
    {
     "data": {
      "image/png": "[encoded data removed]",
      "text/plain": [
       "<Figure size 432x288 with 1 Axes>"
      ]
     },
     "metadata": {
      "needs_background": "light"
     },
     "output_type": "display_data"
    }
   ],
   "source": [
    "# Now plot the ROC curve for SVC Classifier \n",
    "probs = svm_model_cv.predict_proba(X_test)\n",
    "probs = probs[:, 1]\n",
    "auc = roc_auc_score(y_test, probs)\n",
    "fpr, tpr, thresholds = roc_curve(y_test, probs)\n",
    "\n",
    "def plot_roc_curve(fpr, tpr):\n",
    "    plt.plot(fpr, tpr, color='orange', label = 'AUC = %0.2f' % auc)\n",
    "    plt.plot([0, 1], [0, 1], color='darkblue', linestyle='--')\n",
    "    plt.xlabel('False Positive Rate')\n",
    "    plt.ylabel('True Positive Rate')\n",
    "    plt.title('ROC: Support Vector classifier train set 2000')\n",
    "    plt.legend()\n",
    "    plt.show()\n",
    "plot_roc_curve(fpr, tpr)\n"
   ]
  },
  {
   "cell_type": "markdown",
   "metadata": {},
   "source": [
    "**Logistic Regression**"
   ]
  },
  {
   "cell_type": "code",
   "execution_count": 25,
   "metadata": {},
   "outputs": [
    {
     "data": {
      "image/png": "[encoded data removed]",
      "text/plain": [
       "<Figure size 432x288 with 1 Axes>"
      ]
     },
     "metadata": {
      "needs_background": "light"
     },
     "output_type": "display_data"
    }
   ],
   "source": [
    "probs_1 = log_reg_model_cv.predict_proba(X_test)\n",
    "probs_1 = probs_1[:, 1]\n",
    "auc_1 = roc_auc_score(y_test, probs_1)\n",
    "fpr_1, tpr_1, thresholds = roc_curve(y_test, probs_1)\n",
    "def plot_roc_curve(fpr_1, tpr_1):\n",
    "    plt.plot(fpr_1, tpr_1, color='purple', label = 'AUC = %0.2f' % auc_1)\n",
    "    plt.plot([0, 1], [0, 1], color='darkblue', linestyle='--')\n",
    "    plt.xlabel('False Positive Rate')\n",
    "    plt.ylabel('True Positive Rate')\n",
    "    plt.title('ROC: Logistic Regression classifier train set 2000')\n",
    "    plt.legend()\n",
    "    plt.show()\n",
    "plot_roc_curve(fpr_1, tpr_1)"
   ]
  },
  {
   "cell_type": "markdown",
   "metadata": {},
   "source": [
    "**Random Forest**"
   ]
  },
  {
   "cell_type": "code",
   "execution_count": 26,
   "metadata": {},
   "outputs": [
    {
     "data": {
      "image/png": "[encoded data removed]",
      "text/plain": [
       "<Figure size 432x288 with 1 Axes>"
      ]
     },
     "metadata": {
      "needs_background": "light"
     },
     "output_type": "display_data"
    }
   ],
   "source": [
    "probs_2 = rf_model_cv.predict_proba(X_test)\n",
    "probs_2 = probs_2[:, 1]\n",
    "auc_2 = roc_auc_score(y_test, probs_2)\n",
    "fpr_2, tpr_2, thresholds = roc_curve(y_test, probs_2)\n",
    "def plot_roc_curve(fpr_2, tpr_2):\n",
    "    plt.plot(fpr_2, tpr_2, color='green', label = 'AUC = %0.2f' % auc_2)\n",
    "    plt.plot([0, 1], [0, 1], color='darkblue', linestyle='--')\n",
    "    plt.xlabel('False Positive Rate')\n",
    "    plt.ylabel('True Positive Rate')\n",
    "    plt.title('ROC: Random Forest classifier train set 2000')\n",
    "    plt.legend()\n",
    "    plt.show()\n",
    "plot_roc_curve(fpr_2, tpr_2)"
   ]
  },
  {
   "cell_type": "markdown",
   "metadata": {},
   "source": [
    "**XGBoost**"
   ]
  },
  {
   "cell_type": "code",
   "execution_count": 27,
   "metadata": {},
   "outputs": [
    {
     "data": {
      "image/png": "[encoded data removed]",
      "text/plain": [
       "<Figure size 432x288 with 1 Axes>"
      ]
     },
     "metadata": {
      "needs_background": "light"
     },
     "output_type": "display_data"
    }
   ],
   "source": [
    "probs_3 = xgboost_model_cv.predict_proba(X_test)\n",
    "probs_3 = probs_3[:, 1]\n",
    "auc_3 = roc_auc_score(y_test, probs_3)\n",
    "fpr_3, tpr_3, thresholds = roc_curve(y_test, probs_3)\n",
    "def plot_roc_curve(fpr_3, tpr_3):\n",
    "    plt.plot(fpr_3, tpr_3, color='red', label = 'AUC = %0.2f' % auc_3)\n",
    "    plt.plot([0, 1], [0, 1], color='darkblue', linestyle='--')\n",
    "    plt.xlabel('False Positive Rate')\n",
    "    plt.ylabel('True Positive Rate')\n",
    "    plt.title('ROC: XGBoost classifier train set 1200')\n",
    "    plt.legend()\n",
    "    plt.show()\n",
    "plot_roc_curve(fpr_3, tpr_3)"
   ]
  },
  {
   "cell_type": "code",
   "execution_count": 28,
   "metadata": {},
   "outputs": [
    {
     "data": {
      "image/png": "[encoded data removed]",
      "text/plain": [
       "<Figure size 432x288 with 1 Axes>"
      ]
     },
     "metadata": {
      "needs_background": "light"
     },
     "output_type": "display_data"
    }
   ],
   "source": [
    "### Combine ROC curve for all the three classifiers SVC, Logistic Reg., Random Forest & XGBoost\n",
    "plt.plot([0,1],[0,1], 'k--')\n",
    "plt.plot(fpr, tpr, label = \"SVC validation AUC = %0.2f\" % auc)\n",
    "plt.plot(fpr_1, tpr_1, label = \"Logistic Reg. validation AUC = %0.2f\" % auc_1)\n",
    "plt.plot(fpr_2, tpr_2, label = \"Random Forest validation AUC = %0.2f\" % auc_2)\n",
    "plt.plot(fpr_3, tpr_3, label = \"XGBoost validation AUC = %0.2f\" % auc_3)\n",
    "\n",
    "plt.legend()\n",
    "#place legend in top right corner\n",
    "#plt.legend(bbox_to_anchor=(1,1), loc=\"upper left\")\n",
    "plt.legend(loc = 'lower right')\n",
    "plt.xlabel(\"False Positive Rate\")\n",
    "plt.ylabel(\"True Positive Rate\")\n",
    "plt.title('ROC: Fold_1 16 full supported variants & covariates (age & gender) \\n improved grading (5+4+3 vs 0) 2000 cohort')\n",
    "plt.savefig(path+'ROC_stratified_Fold_1_16_full_supported_2000_cohort.pdf')\n",
    "plt.show()"
   ]
  },
  {
   "cell_type": "markdown",
   "metadata": {},
   "source": [
    "#### Classifiers' Model importance"
   ]
  },
  {
   "cell_type": "markdown",
   "metadata": {},
   "source": [
    "#### SVC Classifier "
   ]
  },
  {
   "cell_type": "code",
   "execution_count": 29,
   "metadata": {},
   "outputs": [],
   "source": [
    "# Identified best GridSearch CV Model parameters to evaluate feature importance of the models\n",
    "df1 = features_train[0] \n",
    "df2 = pd.read_csv(path+\"pheno_test_fold_1.csv\")\n",
    "# 1) SVC Classifier\n",
    "svm_model_cv_linear = SVC(C=1, class_weight='balanced', degree=2, gamma=0.04, kernel='linear')\n",
    "\n",
    "new_target_train = svm_model_cv.predict(X_train)\n",
    "\n",
    "svm_model_cv_1 = svm_model_cv_linear.fit(X_train,new_target_train) \n",
    "#Analyzing the coefficients\n",
    "importance_svm = pd.concat([pd.DataFrame(np.transpose(df1.columns), columns = [\"Features\"]),\n",
    "           pd.DataFrame(np.transpose(svm_model_cv_1.coef_), columns = [\"Importance\"])\n",
    "           ],axis = 1)\n",
    "importance_svm.sort_values(by='Importance', ascending=False).head(10)\n",
    "#save as CSV file \n",
    "importance_svm.to_csv(path + \"SVC_importance_train_fold_1_full_support.csv\", index = True)\n",
    "\n",
    "# Save prediction for SVC classifier \n",
    "df_new  = df2[[\"sample_ID\", \"grouping\"]]\n",
    "\n",
    "# save the predictions from validation set for SVC \n",
    "new_target = y_predict_svm\n",
    "df_2 = pd.DataFrame(np.transpose(new_target), columns = [\"predicted_grouping\"])\n",
    "#concatenate dataframes\n",
    "df_3 = pd.concat([df_new, df_2], axis=1)\n",
    "df_3.sort_values(by='predicted_grouping', ascending=False).head(10)\n",
    "#save as CSV file \n",
    "df_3.to_csv(path + \"predictions_SVC_test_fold_1_full_support.csv\", index = True)\n"
   ]
  },
  {
   "cell_type": "markdown",
   "metadata": {},
   "source": [
    "#### Logistic Regression Classifier "
   ]
  },
  {
   "cell_type": "code",
   "execution_count": 30,
   "metadata": {},
   "outputs": [],
   "source": [
    "# 2) Logistic Regression classifier \n",
    "clf = log_reg_model_cv.best_estimator_\n",
    "clf.fit(X_train, y_train)\n",
    "#Analyzing the coefficients\n",
    "importance_logreg = pd.concat([pd.DataFrame(np.transpose(df1.columns), columns = [\"Features\"]),\n",
    "           pd.DataFrame(np.transpose(clf.coef_), columns = [\"Importance\"])\n",
    "           ],axis = 1)\n",
    "importance_logreg.sort_values(by='Importance', ascending=False).head(10)\n",
    "#save as CSV file \n",
    "importance_logreg.to_csv(\"log_reg_importance_train_fold_1_full_support.csv\", index = True)\n",
    "\n",
    "# saving the predictions of Logistic Reg. classifier as new target\n",
    "new_target = y_predict_log\n",
    "df_4 = pd.DataFrame(np.transpose(new_target), columns = [\"predicted_grouping\"])\n",
    "#concatenate dataframes\n",
    "df_5 = pd.concat([df_new, df_4], axis=1)\n",
    "#save as CSV file \n",
    "df_5.to_csv(\"prediction_log_reg_test_fold_1_full_support.csv\", index = True)\n"
   ]
  },
  {
   "cell_type": "markdown",
   "metadata": {},
   "source": [
    "#### Random Forest Classifier "
   ]
  },
  {
   "cell_type": "code",
   "execution_count": 31,
   "metadata": {},
   "outputs": [],
   "source": [
    "# 3) Random Forest \n",
    "# Use the best model hyper-parameter for Random Forest identified from CV grid search \n",
    "clf_rf = rf_model_cv.best_estimator_\n",
    "clf_rf.fit(X_train, y_train)\n",
    "#Analyzing the coefficients\n",
    "importance_rf = pd.concat([pd.DataFrame(np.transpose(df1.columns), columns = [\"Features\"]),\n",
    "           pd.DataFrame(np.transpose(clf_rf.feature_importances_), columns = [\"Importance\"])\n",
    "           ],axis = 1)\n",
    "importance_rf.sort_values(by='Importance', ascending=False).head(10)\n",
    "#save as CSV file \n",
    "importance_rf.to_csv(\"Random_forest_importance_train_fold_1_full_support.csv\", index = True)\n",
    "# saving the predictions of Random Forest classifier as new target\n",
    "new_target = y_predict_rf\n",
    "df_6 = pd.DataFrame(np.transpose(new_target), columns = [\"predicted_grouping\"])\n",
    "#concatenate dataframes\n",
    "df_7 = pd.concat([df_new, df_6], axis=1)\n",
    "#save as CSV file \n",
    "df_7.to_csv(\"prediction_Random_forest_test_fold_1_full_support.csv\", index = True)"
   ]
  },
  {
   "cell_type": "markdown",
   "metadata": {},
   "source": [
    "#### XGBoost Classifier "
   ]
  },
  {
   "cell_type": "code",
   "execution_count": 32,
   "metadata": {},
   "outputs": [],
   "source": [
    "# 4) XGBoost classifier \n",
    "# Use the best model hyper-parameter for XGBoost classifier identified from CV grid search \n",
    "clf_xgboost = xgboost_model_cv.best_estimator_\n",
    "clf_xgboost.fit(X_train, y_train)\n",
    "#Analyzing the coefficients\n",
    "importance_xgboost = pd.concat([pd.DataFrame(np.transpose(df1.columns), columns = [\"Features\"]),\n",
    "           pd.DataFrame(np.transpose(clf_xgboost.feature_importances_), columns = [\"Importance\"])\n",
    "           ],axis = 1)\n",
    "importance_xgboost.sort_values(by='Importance', ascending=False).head(10)\n",
    "#save as CSV file \n",
    "importance_xgboost.to_csv(\"XGBoost_importance_train_fold_1_full_support.csv\", index = True)\n",
    "# saving the predictions of Random Forest classifier as new target\n",
    "new_target = y_predict_xgboost\n",
    "df_8 = pd.DataFrame(np.transpose(new_target), columns = [\"predicted_grouping\"])\n",
    "#concatenate dataframes\n",
    "df_9 = pd.concat([df_new, df_8], axis=1)\n",
    "#save as CSV file \n",
    "df_9.to_csv(\"prediction_XGBoost_test_fold_1_full_support.csv\", index = True)"
   ]
  },
  {
   "cell_type": "markdown",
   "metadata": {},
   "source": [
    "#### Save ML best GridSearchCV training Models "
   ]
  },
  {
   "cell_type": "markdown",
   "metadata": {},
   "source": [
    "#### SVC Classifier model"
   ]
  },
  {
   "cell_type": "code",
   "execution_count": 33,
   "metadata": {},
   "outputs": [
    {
     "data": {
      "text/plain": [
       "['/Users/Hp/Desktop/2000_cohort_datasets_analysis/model_svc_fold_1_full_support_2000_cohort']"
      ]
     },
     "execution_count": 33,
     "metadata": {},
     "output_type": "execute_result"
    }
   ],
   "source": [
    "# 1) save SVC Classifier model \n",
    "import joblib\n",
    "model_svc_1200_improved = svm_model_cv\n",
    "joblib.dump(svm_model_cv, path + 'model_svc_fold_1_full_support_2000_cohort')"
   ]
  },
  {
   "cell_type": "markdown",
   "metadata": {},
   "source": [
    "#### Logistic Regression Classifier model "
   ]
  },
  {
   "cell_type": "code",
   "execution_count": 34,
   "metadata": {},
   "outputs": [
    {
     "data": {
      "text/plain": [
       "['/Users/Hp/Desktop/2000_cohort_datasets_analysis/model_LOR_fold_1_full_support_2000_cohort']"
      ]
     },
     "execution_count": 34,
     "metadata": {},
     "output_type": "execute_result"
    }
   ],
   "source": [
    "# 2) save model logistic Reg. classifier \n",
    "\n",
    "model_LOR_2000_improved = log_reg_model_cv  \n",
    "joblib.dump(log_reg_model_cv, path + 'model_LOR_fold_1_full_support_2000_cohort')"
   ]
  },
  {
   "cell_type": "markdown",
   "metadata": {},
   "source": [
    "#### Random Forest classifier model "
   ]
  },
  {
   "cell_type": "code",
   "execution_count": 35,
   "metadata": {},
   "outputs": [
    {
     "data": {
      "text/plain": [
       "['/Users/Hp/Desktop/2000_cohort_datasets_analysis/model_RF_fold_1_full_support_2000_cohort']"
      ]
     },
     "execution_count": 35,
     "metadata": {},
     "output_type": "execute_result"
    }
   ],
   "source": [
    "# 3) save model Random Forest classifier \n",
    "\n",
    "model_RF_2000_improved =rf_model_cv\n",
    "joblib.dump(rf_model_cv, path + 'model_RF_fold_1_full_support_2000_cohort')"
   ]
  },
  {
   "cell_type": "markdown",
   "metadata": {},
   "source": [
    "#### XGBoost classifier model "
   ]
  },
  {
   "cell_type": "code",
   "execution_count": 36,
   "metadata": {},
   "outputs": [
    {
     "data": {
      "text/plain": [
       "['/Users/Hp/Desktop/2000_cohort_datasets_analysis/model_XGB_fold_1_full_support_2000_cohort']"
      ]
     },
     "execution_count": 36,
     "metadata": {},
     "output_type": "execute_result"
    }
   ],
   "source": [
    "# 4) save model XGBoost classifier \n",
    "\n",
    "model_XGB_2000_improved = xgboost_model_cv  \n",
    "joblib.dump(xgboost_model_cv, path + 'model_XGB_fold_1_full_support_2000_cohort')"
   ]
  }
 ],
 "metadata": {
  "kernelspec": {
   "display_name": "Python 3",
   "language": "python",
   "name": "python3"
  },
  "language_info": {
   "codemirror_mode": {
    "name": "ipython",
    "version": 3
   },
   "file_extension": ".py",
   "mimetype": "text/x-python",
   "name": "python",
   "nbconvert_exporter": "python",
   "pygments_lexer": "ipython3",
   "version": "3.7.6"
  }
 },
 "nbformat": 4,
 "nbformat_minor": 4
}
