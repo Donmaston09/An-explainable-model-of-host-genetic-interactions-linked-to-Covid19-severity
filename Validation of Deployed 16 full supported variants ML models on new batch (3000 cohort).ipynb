{
 "cells": [
  {
   "cell_type": "markdown",
   "metadata": {},
   "source": [
    "#### Model deployment: validation of 16 full supported variants identified from 2000 cohort analyses on new dataset of 3000 cohort (16 Full supported variants and Covariates).\n",
    "\n",
    "**Introduction** \n",
    "\n",
    "We saved the models (SVC, Logistic Regression, Random Forest, XGBoost) from 16 full supported variants that received non-zero weights in all the decision-tree like models in the stratified 5-foldCV (Random Forest and XGBoost) of the 2000 cohort. We validate these models on new arrival of 3000 cohort from 3rd and 4th wave of the pandemic. \n",
    "We recycled this Jupyter notebook 4-times to account for saved models in stratified fold 2 - 5."
   ]
  },
  {
   "cell_type": "code",
   "execution_count": 1,
   "metadata": {},
   "outputs": [
    {
     "data": {
      "text/html": [
       "<style type='text/css'>\n",
       ".datatable table.frame { margin-bottom: 0; }\n",
       ".datatable table.frame thead { border-bottom: none; }\n",
       ".datatable table.frame tr.coltypes td {  color: #FFFFFF;  line-height: 6px;  padding: 0 0.5em;}\n",
       ".datatable .bool    { background: #DDDD99; }\n",
       ".datatable .object  { background: #565656; }\n",
       ".datatable .int     { background: #5D9E5D; }\n",
       ".datatable .float   { background: #4040CC; }\n",
       ".datatable .str     { background: #CC4040; }\n",
       ".datatable .row_index {  background: var(--jp-border-color3);  border-right: 1px solid var(--jp-border-color0);  color: var(--jp-ui-font-color3);  font-size: 9px;}\n",
       ".datatable .frame tr.coltypes .row_index {  background: var(--jp-border-color0);}\n",
       ".datatable th:nth-child(2) { padding-left: 12px; }\n",
       ".datatable .hellipsis {  color: var(--jp-cell-editor-border-color);}\n",
       ".datatable .vellipsis {  background: var(--jp-layout-color0);  color: var(--jp-cell-editor-border-color);}\n",
       ".datatable .na {  color: var(--jp-cell-editor-border-color);  font-size: 80%;}\n",
       ".datatable .footer { font-size: 9px; }\n",
       ".datatable .frame_dimensions {  background: var(--jp-border-color3);  border-top: 1px solid var(--jp-border-color0);  color: var(--jp-ui-font-color3);  display: inline-block;  opacity: 0.6;  padding: 1px 10px 1px 5px;}\n",
       "</style>\n"
      ],
      "text/plain": [
       "<IPython.core.display.HTML object>"
      ]
     },
     "metadata": {},
     "output_type": "display_data"
    }
   ],
   "source": [
    "# Import all libraries \n",
    "import numpy as np\n",
    "import pandas as pd\n",
    "import matplotlib.pyplot as plt\n",
    "import seaborn as sns\n",
    "import collections\n",
    "import joblib\n",
    "\n",
    "#### Classifier Libraries\n",
    "from sklearn.svm import SVC\n",
    "from sklearn.svm import LinearSVC\n",
    "from sklearn.linear_model import LogisticRegression\n",
    "from sklearn.metrics import matthews_corrcoef\n",
    "from xgboost import XGBClassifier\n",
    "from sklearn.ensemble import RandomForestClassifier\n",
    "\n",
    "\n",
    "# compare ensemble to each baseline classifier\n",
    "from matplotlib import pyplot\n",
    "## Other Libraries\n",
    "from statistics import mean, stdev\n",
    "from sklearn.metrics import roc_curve, roc_auc_score,auc, accuracy_score, f1_score\n",
    "from sklearn.preprocessing import StandardScaler, label_binarize\n",
    "from sklearn.metrics import make_scorer, precision_score, recall_score, classification_report, confusion_matrix\n",
    "from sklearn.preprocessing import RobustScaler\n",
    "import warnings\n",
    "warnings.filterwarnings(\"ignore\")"
   ]
  },
  {
   "cell_type": "code",
   "execution_count": 2,
   "metadata": {},
   "outputs": [
    {
     "data": {
      "text/html": [
       "<div>\n",
       "<style scoped>\n",
       "    .dataframe tbody tr th:only-of-type {\n",
       "        vertical-align: middle;\n",
       "    }\n",
       "\n",
       "    .dataframe tbody tr th {\n",
       "        vertical-align: top;\n",
       "    }\n",
       "\n",
       "    .dataframe thead th {\n",
       "        text-align: right;\n",
       "    }\n",
       "</style>\n",
       "<table border=\"1\" class=\"dataframe\">\n",
       "  <thead>\n",
       "    <tr style=\"text-align: right;\">\n",
       "      <th></th>\n",
       "      <th>age</th>\n",
       "      <th>gender</th>\n",
       "      <th>grouping</th>\n",
       "      <th>ZBED3</th>\n",
       "      <th>PLEC</th>\n",
       "      <th>TRIM72</th>\n",
       "      <th>HDGFL2</th>\n",
       "      <th>SECISBP2L</th>\n",
       "      <th>CEP131</th>\n",
       "      <th>GOLGA6L3</th>\n",
       "      <th>PCSK5</th>\n",
       "      <th>GFM1</th>\n",
       "      <th>ZBTB3</th>\n",
       "      <th>BMS1P1;FRMPD2B</th>\n",
       "      <th>SPATA6</th>\n",
       "      <th>CNTFR</th>\n",
       "      <th>MIR933</th>\n",
       "      <th>ZRANB3</th>\n",
       "      <th>LOC100996720</th>\n",
       "    </tr>\n",
       "    <tr>\n",
       "      <th>sample_ID</th>\n",
       "      <th></th>\n",
       "      <th></th>\n",
       "      <th></th>\n",
       "      <th></th>\n",
       "      <th></th>\n",
       "      <th></th>\n",
       "      <th></th>\n",
       "      <th></th>\n",
       "      <th></th>\n",
       "      <th></th>\n",
       "      <th></th>\n",
       "      <th></th>\n",
       "      <th></th>\n",
       "      <th></th>\n",
       "      <th></th>\n",
       "      <th></th>\n",
       "      <th></th>\n",
       "      <th></th>\n",
       "      <th></th>\n",
       "    </tr>\n",
       "  </thead>\n",
       "  <tbody>\n",
       "    <tr>\n",
       "      <th>AR-COVID3-USC-AREZZO_hg38</th>\n",
       "      <td>29</td>\n",
       "      <td>1</td>\n",
       "      <td>0</td>\n",
       "      <td>0</td>\n",
       "      <td>0</td>\n",
       "      <td>0</td>\n",
       "      <td>0</td>\n",
       "      <td>2</td>\n",
       "      <td>0</td>\n",
       "      <td>0</td>\n",
       "      <td>0</td>\n",
       "      <td>0</td>\n",
       "      <td>0</td>\n",
       "      <td>0</td>\n",
       "      <td>0</td>\n",
       "      <td>0</td>\n",
       "      <td>0</td>\n",
       "      <td>0</td>\n",
       "      <td>2</td>\n",
       "    </tr>\n",
       "    <tr>\n",
       "      <th>BS-COV-56_hg38</th>\n",
       "      <td>32</td>\n",
       "      <td>0</td>\n",
       "      <td>1</td>\n",
       "      <td>0</td>\n",
       "      <td>0</td>\n",
       "      <td>0</td>\n",
       "      <td>0</td>\n",
       "      <td>2</td>\n",
       "      <td>0</td>\n",
       "      <td>0</td>\n",
       "      <td>0</td>\n",
       "      <td>0</td>\n",
       "      <td>0</td>\n",
       "      <td>0</td>\n",
       "      <td>0</td>\n",
       "      <td>0</td>\n",
       "      <td>0</td>\n",
       "      <td>0</td>\n",
       "      <td>0</td>\n",
       "    </tr>\n",
       "    <tr>\n",
       "      <th>BS-COV-83_hg38</th>\n",
       "      <td>34</td>\n",
       "      <td>0</td>\n",
       "      <td>1</td>\n",
       "      <td>0</td>\n",
       "      <td>0</td>\n",
       "      <td>0</td>\n",
       "      <td>1</td>\n",
       "      <td>2</td>\n",
       "      <td>0</td>\n",
       "      <td>0</td>\n",
       "      <td>0</td>\n",
       "      <td>0</td>\n",
       "      <td>0</td>\n",
       "      <td>0</td>\n",
       "      <td>0</td>\n",
       "      <td>0</td>\n",
       "      <td>0</td>\n",
       "      <td>0</td>\n",
       "      <td>0</td>\n",
       "    </tr>\n",
       "    <tr>\n",
       "      <th>COV10001-3742_hg38</th>\n",
       "      <td>67</td>\n",
       "      <td>1</td>\n",
       "      <td>1</td>\n",
       "      <td>0</td>\n",
       "      <td>0</td>\n",
       "      <td>0</td>\n",
       "      <td>0</td>\n",
       "      <td>2</td>\n",
       "      <td>0</td>\n",
       "      <td>0</td>\n",
       "      <td>0</td>\n",
       "      <td>0</td>\n",
       "      <td>0</td>\n",
       "      <td>0</td>\n",
       "      <td>0</td>\n",
       "      <td>0</td>\n",
       "      <td>0</td>\n",
       "      <td>0</td>\n",
       "      <td>1</td>\n",
       "    </tr>\n",
       "    <tr>\n",
       "      <th>COV10013-3746_hg38</th>\n",
       "      <td>71</td>\n",
       "      <td>0</td>\n",
       "      <td>1</td>\n",
       "      <td>0</td>\n",
       "      <td>0</td>\n",
       "      <td>0</td>\n",
       "      <td>0</td>\n",
       "      <td>1</td>\n",
       "      <td>0</td>\n",
       "      <td>0</td>\n",
       "      <td>0</td>\n",
       "      <td>0</td>\n",
       "      <td>0</td>\n",
       "      <td>0</td>\n",
       "      <td>0</td>\n",
       "      <td>0</td>\n",
       "      <td>1</td>\n",
       "      <td>0</td>\n",
       "      <td>2</td>\n",
       "    </tr>\n",
       "  </tbody>\n",
       "</table>\n",
       "</div>"
      ],
      "text/plain": [
       "                           age  gender  grouping  ZBED3  PLEC  TRIM72  HDGFL2  \\\n",
       "sample_ID                                                                       \n",
       "AR-COVID3-USC-AREZZO_hg38   29       1         0      0     0       0       0   \n",
       "BS-COV-56_hg38              32       0         1      0     0       0       0   \n",
       "BS-COV-83_hg38              34       0         1      0     0       0       1   \n",
       "COV10001-3742_hg38          67       1         1      0     0       0       0   \n",
       "COV10013-3746_hg38          71       0         1      0     0       0       0   \n",
       "\n",
       "                           SECISBP2L  CEP131  GOLGA6L3  PCSK5  GFM1  ZBTB3  \\\n",
       "sample_ID                                                                    \n",
       "AR-COVID3-USC-AREZZO_hg38          2       0         0      0     0      0   \n",
       "BS-COV-56_hg38                     2       0         0      0     0      0   \n",
       "BS-COV-83_hg38                     2       0         0      0     0      0   \n",
       "COV10001-3742_hg38                 2       0         0      0     0      0   \n",
       "COV10013-3746_hg38                 1       0         0      0     0      0   \n",
       "\n",
       "                           BMS1P1;FRMPD2B  SPATA6  CNTFR  MIR933  ZRANB3  \\\n",
       "sample_ID                                                                  \n",
       "AR-COVID3-USC-AREZZO_hg38               0       0      0       0       0   \n",
       "BS-COV-56_hg38                          0       0      0       0       0   \n",
       "BS-COV-83_hg38                          0       0      0       0       0   \n",
       "COV10001-3742_hg38                      0       0      0       0       0   \n",
       "COV10013-3746_hg38                      0       0      0       1       0   \n",
       "\n",
       "                           LOC100996720  \n",
       "sample_ID                                \n",
       "AR-COVID3-USC-AREZZO_hg38             2  \n",
       "BS-COV-56_hg38                        0  \n",
       "BS-COV-83_hg38                        0  \n",
       "COV10001-3742_hg38                    1  \n",
       "COV10013-3746_hg38                    2  "
      ]
     },
     "execution_count": 2,
     "metadata": {},
     "output_type": "execute_result"
    }
   ],
   "source": [
    "fs=\"\\t\"\n",
    "\n",
    "path=\"/Users/Hp/Desktop/3000_cohort_analysis/\"\n",
    "# import dataset for validation  \n",
    "df = pd.read_csv(path+\"feature_count_16_fully_supported_variants_latest.csv\", delimiter=',', quotechar='\"', index_col='sample_ID')\n",
    "\n",
    "df.head()"
   ]
  },
  {
   "cell_type": "code",
   "execution_count": 3,
   "metadata": {},
   "outputs": [
    {
     "data": {
      "text/plain": [
       "(618, 19)"
      ]
     },
     "execution_count": 3,
     "metadata": {},
     "output_type": "execute_result"
    }
   ],
   "source": [
    "# check shape of dataset \n",
    "df.shape"
   ]
  },
  {
   "cell_type": "code",
   "execution_count": 4,
   "metadata": {},
   "outputs": [
    {
     "name": "stdout",
     "output_type": "stream",
     "text": [
      "Not Severe 19.74 % of the dataset\n",
      "Severe 80.26 % of the dataset\n"
     ]
    },
    {
     "data": {
      "image/png": "[encoded data removed]",
      "text/plain": [
       "<Figure size 504x360 with 1 Axes>"
      ]
     },
     "metadata": {
      "needs_background": "light"
     },
     "output_type": "display_data"
    }
   ],
   "source": [
    "# Checking dataset distribution (target variable)\n",
    "print('Not Severe', round(df['grouping'].value_counts()[0]/len(df) * 100,2), '% of the dataset')\n",
    "print('Severe', round(df['grouping'].value_counts()[1]/len(df) * 100,2), '% of the dataset')\n",
    "\n",
    "plt.figure(figsize=(7,5))\n",
    "sns.countplot(df['grouping'])\n",
    "plt.title(\"Group Count\", fontsize=18)\n",
    "plt.xlabel(\"Is Severe?\", fontsize=15)\n",
    "plt.ylabel(\"Count\", fontsize=15)\n",
    "plt.show()"
   ]
  },
  {
   "cell_type": "code",
   "execution_count": 5,
   "metadata": {},
   "outputs": [],
   "source": [
    "# prepare the dataset \n",
    "# define target variable \n",
    "y = df['grouping']\n",
    "\n",
    "# features \n",
    "X = df.drop('grouping', 1)\n",
    "X_1 = X.values \n",
    "\n"
   ]
  },
  {
   "cell_type": "code",
   "execution_count": 6,
   "metadata": {},
   "outputs": [],
   "source": [
    "# Binarize the target variable\n",
    "\n",
    "scaler = StandardScaler()\n",
    "\n",
    "# standardize the dataset to deal with inconsistencies such as age \n",
    "scaler.fit(X_1)\n",
    "\n",
    "y_test = label_binarize(y, classes=[0, 1])\n",
    "\n",
    "# standardized validation set\n",
    "X_test = scaler.transform(X_1)"
   ]
  },
  {
   "cell_type": "markdown",
   "metadata": {},
   "source": [
    "#### Load the saved ML models from 2000 cohort  "
   ]
  },
  {
   "cell_type": "code",
   "execution_count": 7,
   "metadata": {},
   "outputs": [],
   "source": [
    "# Load the saved ML models \n",
    "\n",
    "# SVC classifier \n",
    "with open(path + 'model_svc_fold_1_full_support_2000_cohort', 'rb') as f: \n",
    "    model_svc = joblib.load(f)\n",
    "svm = model_svc\n",
    "\n",
    "\n",
    "# Logistic Reg. classifier \n",
    "with open(path + 'model_LOR_fold_1_full_support_2000_cohort', 'rb') as f: \n",
    "    model_log = joblib.load(f)\n",
    "\n",
    "lr = model_log\n",
    "\n",
    "# Random Forest classifier \n",
    "with open(path + 'model_RF_fold_1_full_support_2000_cohort', 'rb') as f: \n",
    "    model_rf = joblib.load(f)\n",
    "\n",
    "rf = model_rf\n",
    "\n",
    "\n",
    "# Random XGBoost classifier \n",
    "with open(path + 'model_XGB_fold_1_full_support_2000_cohort', 'rb') as f: \n",
    "    model_xgb = joblib.load(f)\n",
    "    \n",
    "xgboost = model_xgb"
   ]
  },
  {
   "cell_type": "markdown",
   "metadata": {},
   "source": [
    "#### Validation of Model classifiers on 100 % unseen 3000 cohort dataset "
   ]
  },
  {
   "cell_type": "code",
   "execution_count": 8,
   "metadata": {},
   "outputs": [
    {
     "name": "stdout",
     "output_type": "stream",
     "text": [
      "accuracy of the best classifier after CV is 77.508%\n",
      "Test Accuracy score 0.7750809061488673\n",
      "Test Matthews correlation coefficient 0.5712993513286874\n",
      "Test F1- score 0.8378063010501751\n",
      "Test Precision score 0.9944598337950139\n",
      "Test Recall score 0.7237903225806451\n",
      "              precision    recall  f1-score   support\n",
      "\n",
      "           0       0.47      0.98      0.63       122\n",
      "           1       0.99      0.72      0.84       496\n",
      "\n",
      "    accuracy                           0.78       618\n",
      "   macro avg       0.73      0.85      0.74       618\n",
      "weighted avg       0.89      0.78      0.80       618\n",
      "\n"
     ]
    },
    {
     "data": {
      "image/png": "[encoded data removed]",
      "text/plain": [
       "<Figure size 432x288 with 2 Axes>"
      ]
     },
     "metadata": {
      "needs_background": "light"
     },
     "output_type": "display_data"
    },
    {
     "name": "stdout",
     "output_type": "stream",
     "text": [
      "accuracy_score of the best classifier after CV is 77.670%\n",
      "Test Accuracy score 0.7766990291262136\n",
      "Test Matthews correlation coefficient 0.5775985558798568\n",
      "Test F1- score 0.838785046728972\n",
      "Test Precision score 0.9972222222222222\n",
      "Test Recall score 0.7237903225806451\n",
      "              precision    recall  f1-score   support\n",
      "\n",
      "           0       0.47      0.99      0.64       122\n",
      "           1       1.00      0.72      0.84       496\n",
      "\n",
      "    accuracy                           0.78       618\n",
      "   macro avg       0.73      0.86      0.74       618\n",
      "weighted avg       0.89      0.78      0.80       618\n",
      "\n"
     ]
    },
    {
     "data": {
      "image/png": "[encoded data removed]",
      "text/plain": [
       "<Figure size 432x288 with 2 Axes>"
      ]
     },
     "metadata": {
      "needs_background": "light"
     },
     "output_type": "display_data"
    },
    {
     "name": "stdout",
     "output_type": "stream",
     "text": [
      "accuracy_score of the best classifier after CV is 81.715%\n",
      "Test Accuracy score 0.8171521035598706\n",
      "Test Matthews correlation coefficient 0.6211402057595613\n",
      "Test F1- score 0.8723163841807909\n",
      "Test Precision score 0.9922879177377892\n",
      "Test Recall score 0.7782258064516129\n",
      "              precision    recall  f1-score   support\n",
      "\n",
      "           0       0.52      0.98      0.68       122\n",
      "           1       0.99      0.78      0.87       496\n",
      "\n",
      "    accuracy                           0.82       618\n",
      "   macro avg       0.76      0.88      0.78       618\n",
      "weighted avg       0.90      0.82      0.83       618\n",
      "\n"
     ]
    },
    {
     "data": {
      "image/png": "[encoded data removed]",
      "text/plain": [
       "<Figure size 432x288 with 2 Axes>"
      ]
     },
     "metadata": {
      "needs_background": "light"
     },
     "output_type": "display_data"
    },
    {
     "name": "stdout",
     "output_type": "stream",
     "text": [
      "accuracy_score of the best classifier after CV is 80.583%\n",
      "Test Accuracy score 0.8058252427184466\n",
      "Test Matthews correlation coefficient 0.5816441496962483\n",
      "Test F1- score 0.8651685393258427\n",
      "Test Precision score 0.9771573604060914\n",
      "Test Recall score 0.7762096774193549\n",
      "              precision    recall  f1-score   support\n",
      "\n",
      "           0       0.50      0.93      0.65       122\n",
      "           1       0.98      0.78      0.87       496\n",
      "\n",
      "    accuracy                           0.81       618\n",
      "   macro avg       0.74      0.85      0.76       618\n",
      "weighted avg       0.88      0.81      0.82       618\n",
      "\n"
     ]
    },
    {
     "data": {
      "image/png": "[encoded data removed]",
      "text/plain": [
       "<Figure size 432x288 with 2 Axes>"
      ]
     },
     "metadata": {
      "needs_background": "light"
     },
     "output_type": "display_data"
    }
   ],
   "source": [
    "# Support Vector Classifier \n",
    "y_predict_svm = svm.predict(X_test)\n",
    "\n",
    "accuracy = accuracy_score(y_test,y_predict_svm)\n",
    "print('accuracy of the best classifier after CV is %.3f%%' % (accuracy*100))\n",
    "\n",
    "#Classification reports SVC \n",
    "print('Test Accuracy score %s' % accuracy_score(y_test, y_predict_svm))\n",
    "print('Test Matthews correlation coefficient %s' % matthews_corrcoef(y_test, y_predict_svm))\n",
    "print('Test F1- score %s' % f1_score(y_test, y_predict_svm))\n",
    "print('Test Precision score %s' % precision_score(y_test, y_predict_svm))\n",
    "print('Test Recall score %s' % recall_score(y_test, y_predict_svm))\n",
    "print(classification_report(y_test, y_predict_svm))\n",
    "confusion_matrix(y_test, y_predict_svm)\n",
    "conf_matrix = confusion_matrix(y_test,y_predict_svm)\n",
    "sns.heatmap(conf_matrix, annot=True,fmt='d', cmap=plt.cm.copper)\n",
    "plt.show()\n",
    "\n",
    "# Logistic Regression Classifier \n",
    "y_predict_log = lr.predict(X_test)\n",
    "\n",
    "accuracy = accuracy_score(y_test,y_predict_log)\n",
    "print('accuracy_score of the best classifier after CV is %.3f%%' % (accuracy*100))\n",
    "\n",
    "#Classification reports Logreg\n",
    "print('Test Accuracy score %s' % accuracy_score(y_test, y_predict_log))\n",
    "print('Test Matthews correlation coefficient %s' % matthews_corrcoef(y_test, y_predict_log))\n",
    "print('Test F1- score %s' % f1_score(y_test, y_predict_log))\n",
    "print('Test Precision score %s' % precision_score(y_test, y_predict_log))\n",
    "print('Test Recall score %s' % recall_score(y_test, y_predict_log))\n",
    "print(classification_report(y_test, y_predict_log))\n",
    "confusion_matrix(y_test, y_predict_log)\n",
    "conf_matrix = confusion_matrix(y_test,y_predict_log)\n",
    "sns.heatmap(conf_matrix, annot=True,fmt='d', cmap=plt.cm.copper)\n",
    "plt.show()\n",
    "\n",
    "# Random Forest Classifier \n",
    "y_predict_rf = rf.predict(X_test)\n",
    "\n",
    "accuracy = accuracy_score(y_test,y_predict_rf)\n",
    "print('accuracy_score of the best classifier after CV is %.3f%%' % (accuracy*100))\n",
    "\n",
    "#Classification reports Random Forest \n",
    "print('Test Accuracy score %s' % accuracy_score(y_test, y_predict_rf))\n",
    "print('Test Matthews correlation coefficient %s' % matthews_corrcoef(y_test, y_predict_rf))\n",
    "print('Test F1- score %s' % f1_score(y_test, y_predict_rf))\n",
    "print('Test Precision score %s' % precision_score(y_test, y_predict_rf))\n",
    "print('Test Recall score %s' % recall_score(y_test, y_predict_rf))\n",
    "print(classification_report(y_test, y_predict_rf))\n",
    "confusion_matrix(y_test, y_predict_rf)\n",
    "conf_matrix = confusion_matrix(y_test,y_predict_rf)\n",
    "sns.heatmap(conf_matrix, annot=True,fmt='d', cmap=plt.cm.copper)\n",
    "plt.show()\n",
    "\n",
    "\n",
    "# XGBoost Classifier \n",
    "y_predict_xgboost = xgboost.predict(X_test)\n",
    "\n",
    "accuracy = accuracy_score(y_test,y_predict_xgboost)\n",
    "print('accuracy_score of the best classifier after CV is %.3f%%' % (accuracy*100))\n",
    "\n",
    "#Classification reports XGBoost classifier  \n",
    "print('Test Accuracy score %s' % accuracy_score(y_test, y_predict_xgboost))\n",
    "print('Test Matthews correlation coefficient %s' % matthews_corrcoef(y_test, y_predict_xgboost))\n",
    "print('Test F1- score %s' % f1_score(y_test, y_predict_xgboost))\n",
    "print('Test Precision score %s' % precision_score(y_test, y_predict_xgboost))\n",
    "print('Test Recall score %s' % recall_score(y_test, y_predict_xgboost))\n",
    "print(classification_report(y_test, y_predict_xgboost))\n",
    "confusion_matrix(y_test, y_predict_xgboost)\n",
    "conf_matrix = confusion_matrix(y_test,y_predict_xgboost)\n",
    "sns.heatmap(conf_matrix, annot=True,fmt='d', cmap=plt.cm.copper)\n",
    "plt.show()"
   ]
  },
  {
   "cell_type": "markdown",
   "metadata": {},
   "source": [
    "#### ROC/AUC Curve interpretations"
   ]
  },
  {
   "cell_type": "code",
   "execution_count": 9,
   "metadata": {},
   "outputs": [
    {
     "data": {
      "image/png": "[encoded data removed]",
      "text/plain": [
       "<Figure size 432x288 with 1 Axes>"
      ]
     },
     "metadata": {
      "needs_background": "light"
     },
     "output_type": "display_data"
    },
    {
     "data": {
      "image/png": "[encoded data removed]",
      "text/plain": [
       "<Figure size 432x288 with 1 Axes>"
      ]
     },
     "metadata": {
      "needs_background": "light"
     },
     "output_type": "display_data"
    },
    {
     "data": {
      "image/png": "[encoded data removed]",
      "text/plain": [
       "<Figure size 432x288 with 1 Axes>"
      ]
     },
     "metadata": {
      "needs_background": "light"
     },
     "output_type": "display_data"
    },
    {
     "data": {
      "image/png": "[encoded data removed]",
      "text/plain": [
       "<Figure size 432x288 with 1 Axes>"
      ]
     },
     "metadata": {
      "needs_background": "light"
     },
     "output_type": "display_data"
    },
    {
     "data": {
      "image/png": "[encoded data removed]",
      "text/plain": [
       "<Figure size 432x288 with 1 Axes>"
      ]
     },
     "metadata": {
      "needs_background": "light"
     },
     "output_type": "display_data"
    }
   ],
   "source": [
    "\n",
    "# 1) SVC Classifier\n",
    "\n",
    "# Now plot the ROC curve for SVC Classifier  whole set \n",
    "probs = svm.predict_proba(X_test)\n",
    "probs = probs[:, 1]\n",
    "auc = roc_auc_score(y_test, probs)\n",
    "fpr, tpr, thresholds = roc_curve(y_test, probs)\n",
    "\n",
    "def plot_roc_curve(fpr, tpr):\n",
    "    plt.plot(fpr, tpr, color='orange', label = 'AUC = %0.2f' % auc)\n",
    "    plt.plot([0, 1], [0, 1], color='darkblue', linestyle='--')\n",
    "    plt.xlabel('False Positive Rate')\n",
    "    plt.ylabel('True Positive Rate')\n",
    "    plt.title('ROC: Support Vector classifier train set 2000')\n",
    "    plt.legend()\n",
    "    plt.show()\n",
    "plot_roc_curve(fpr, tpr)\n",
    "\n",
    "# 2) Logistic Reg. \n",
    "probs_1 = lr.predict_proba(X_test)\n",
    "probs_1 = probs_1[:, 1]\n",
    "auc_1 = roc_auc_score(y_test, probs_1)\n",
    "fpr_1, tpr_1, thresholds = roc_curve(y_test, probs_1)\n",
    "def plot_roc_curve(fpr_1, tpr_1):\n",
    "    plt.plot(fpr_1, tpr_1, color='purple', label = 'AUC = %0.2f' % auc_1)\n",
    "    plt.plot([0, 1], [0, 1], color='darkblue', linestyle='--')\n",
    "    plt.xlabel('False Positive Rate')\n",
    "    plt.ylabel('True Positive Rate')\n",
    "    plt.title('ROC: Logistic Regression classifier train set 2000')\n",
    "    plt.legend()\n",
    "    plt.show()\n",
    "plot_roc_curve(fpr_1, tpr_1)\n",
    "\n",
    "# 3) Random Forest \n",
    "probs_2 = rf.predict_proba(X_test)\n",
    "probs_2 = probs_2[:, 1]\n",
    "auc_2 = roc_auc_score(y_test, probs_2)\n",
    "fpr_2, tpr_2, thresholds = roc_curve(y_test, probs_2)\n",
    "def plot_roc_curve(fpr_2, tpr_2):\n",
    "    plt.plot(fpr_2, tpr_2, color='green', label = 'AUC = %0.2f' % auc_2)\n",
    "    plt.plot([0, 1], [0, 1], color='darkblue', linestyle='--')\n",
    "    plt.xlabel('False Positive Rate')\n",
    "    plt.ylabel('True Positive Rate')\n",
    "    plt.title('ROC: Random Forest classifier train set 2000')\n",
    "    plt.legend()\n",
    "    plt.show()\n",
    "plot_roc_curve(fpr_2, tpr_2)\n",
    "\n",
    "# 4) XGBoost classifier \n",
    "\n",
    "# 3) AUC and ROC curve Random Forest classifier\n",
    "# Only train set screened  \n",
    "probs_3 = xgboost.predict_proba(X_test)\n",
    "probs_3 = probs_3[:, 1]\n",
    "auc_3 = roc_auc_score(y_test, probs_3)\n",
    "fpr_3, tpr_3, thresholds = roc_curve(y_test, probs_3)\n",
    "def plot_roc_curve(fpr_3, tpr_3):\n",
    "    plt.plot(fpr_3, tpr_3, color='red', label = 'AUC = %0.2f' % auc_3)\n",
    "    plt.plot([0, 1], [0, 1], color='darkblue', linestyle='--')\n",
    "    plt.xlabel('False Positive Rate')\n",
    "    plt.ylabel('True Positive Rate')\n",
    "    plt.title('ROC: XGBoost classifier train set 1200')\n",
    "    plt.legend()\n",
    "    plt.show()\n",
    "plot_roc_curve(fpr_3, tpr_3)\n",
    "\n",
    "### Combine ROC curve for all the three classifiers SVC, Logistic Reg., Random Forest & XGBoost\n",
    "fig = plt.figure()\n",
    "plt.plot([0,1],[0,1], 'k--')\n",
    "plt.plot(fpr, tpr, label = \"SVC validation AUC = %0.2f\" % auc)\n",
    "plt.plot(fpr_1, tpr_1, label = \"Logistic Reg. validation AUC = %0.2f\" % auc_1)\n",
    "plt.plot(fpr_2, tpr_2, label = \"Random Forest validation AUC = %0.2f\" % auc_2)\n",
    "plt.plot(fpr_3, tpr_3, label = \"XGBoost validation AUC = %0.2f\" % auc_3)\n",
    "\n",
    "plt.legend()\n",
    "#place legend in top right corner\n",
    "#plt.legend(bbox_to_anchor=(1,1), loc=\"upper left\")\n",
    "plt.legend(loc = 'lower right')\n",
    "plt.xlabel(\"False Positive Rate\")\n",
    "plt.ylabel(\"True Positive Rate\")\n",
    "plt.title('ROC: 16 full support variants Fold 1 \\n improved grading (5+4+3 vs 0) 3000 cohort')\n",
    "#plt.savefig(path+'ROC_16_full_support_3000_cohort_Fold_1.pdf')\n",
    "plt.show()"
   ]
  },
  {
   "cell_type": "markdown",
   "metadata": {},
   "source": [
    "#### Prediction probabilities"
   ]
  },
  {
   "cell_type": "code",
   "execution_count": 10,
   "metadata": {},
   "outputs": [
    {
     "data": {
      "text/html": [
       "<div>\n",
       "<style scoped>\n",
       "    .dataframe tbody tr th:only-of-type {\n",
       "        vertical-align: middle;\n",
       "    }\n",
       "\n",
       "    .dataframe tbody tr th {\n",
       "        vertical-align: top;\n",
       "    }\n",
       "\n",
       "    .dataframe thead th {\n",
       "        text-align: right;\n",
       "    }\n",
       "</style>\n",
       "<table border=\"1\" class=\"dataframe\">\n",
       "  <thead>\n",
       "    <tr style=\"text-align: right;\">\n",
       "      <th></th>\n",
       "      <th>sample_ID</th>\n",
       "      <th>grouping</th>\n",
       "      <th>predicted_grouping</th>\n",
       "      <th>predicted_prob</th>\n",
       "    </tr>\n",
       "  </thead>\n",
       "  <tbody>\n",
       "    <tr>\n",
       "      <th>309</th>\n",
       "      <td>COV6646-2416_hg38</td>\n",
       "      <td>1</td>\n",
       "      <td>1</td>\n",
       "      <td>0.723375</td>\n",
       "    </tr>\n",
       "    <tr>\n",
       "      <th>258</th>\n",
       "      <td>COV6278-2284_hg38</td>\n",
       "      <td>1</td>\n",
       "      <td>1</td>\n",
       "      <td>0.864592</td>\n",
       "    </tr>\n",
       "    <tr>\n",
       "      <th>282</th>\n",
       "      <td>COV6509-2368_hg38</td>\n",
       "      <td>1</td>\n",
       "      <td>1</td>\n",
       "      <td>0.970347</td>\n",
       "    </tr>\n",
       "    <tr>\n",
       "      <th>280</th>\n",
       "      <td>COV6467-2342_hg38</td>\n",
       "      <td>1</td>\n",
       "      <td>1</td>\n",
       "      <td>0.959970</td>\n",
       "    </tr>\n",
       "    <tr>\n",
       "      <th>470</th>\n",
       "      <td>COV9801-3660_hg38</td>\n",
       "      <td>1</td>\n",
       "      <td>1</td>\n",
       "      <td>0.989914</td>\n",
       "    </tr>\n",
       "  </tbody>\n",
       "</table>\n",
       "</div>"
      ],
      "text/plain": [
       "             sample_ID  grouping  predicted_grouping  predicted_prob\n",
       "309  COV6646-2416_hg38         1                   1        0.723375\n",
       "258  COV6278-2284_hg38         1                   1        0.864592\n",
       "282  COV6509-2368_hg38         1                   1        0.970347\n",
       "280  COV6467-2342_hg38         1                   1        0.959970\n",
       "470  COV9801-3660_hg38         1                   1        0.989914"
      ]
     },
     "execution_count": 10,
     "metadata": {},
     "output_type": "execute_result"
    }
   ],
   "source": [
    "## Save predicted probability of classifier model \n",
    "\n",
    "# Save prediction for SVC classifier\n",
    "\n",
    "df=pd.read_csv(path + \"feature_count_16_fully_supported_variants_latest.csv\")\n",
    "df_new = pd.DataFrame(df, columns = [\"sample_ID\", \"grouping\"])\n",
    "\n",
    "# saving the predictions of validation set from SVC classifier as new target\n",
    "new_target = y_predict_svm\n",
    "\n",
    "df_1 = pd.DataFrame(np.transpose(new_target), columns = [\"predicted_grouping\"])\n",
    "#concatenate dataframes\n",
    "df_2 = pd.concat([df_new, df_1], axis=1)\n",
    "\n",
    "\n",
    "prob_svc = pd.DataFrame(np.transpose(probs), columns = [\"predicted_prob\"])\n",
    "\n",
    "df = pd.concat([df_2, prob_svc ], axis=1)\n",
    "\n",
    "df.sort_values(by='predicted_grouping', ascending=False).head(5)\n",
    "#save as CSV file \n",
    "#df.to_csv(path + \"predictions_proba_SVC_16_full_supported_new_data_Fold_1.csv\", index = True)"
   ]
  },
  {
   "cell_type": "code",
   "execution_count": 11,
   "metadata": {},
   "outputs": [
    {
     "data": {
      "text/html": [
       "<div>\n",
       "<style scoped>\n",
       "    .dataframe tbody tr th:only-of-type {\n",
       "        vertical-align: middle;\n",
       "    }\n",
       "\n",
       "    .dataframe tbody tr th {\n",
       "        vertical-align: top;\n",
       "    }\n",
       "\n",
       "    .dataframe thead th {\n",
       "        text-align: right;\n",
       "    }\n",
       "</style>\n",
       "<table border=\"1\" class=\"dataframe\">\n",
       "  <thead>\n",
       "    <tr style=\"text-align: right;\">\n",
       "      <th></th>\n",
       "      <th>sample_ID</th>\n",
       "      <th>grouping</th>\n",
       "      <th>predicted_grouping</th>\n",
       "      <th>predicted_prob</th>\n",
       "    </tr>\n",
       "  </thead>\n",
       "  <tbody>\n",
       "    <tr>\n",
       "      <th>309</th>\n",
       "      <td>COV6646-2416_hg38</td>\n",
       "      <td>1</td>\n",
       "      <td>1</td>\n",
       "      <td>0.614523</td>\n",
       "    </tr>\n",
       "    <tr>\n",
       "      <th>475</th>\n",
       "      <td>COV9998-3741_hg38</td>\n",
       "      <td>1</td>\n",
       "      <td>1</td>\n",
       "      <td>0.754820</td>\n",
       "    </tr>\n",
       "    <tr>\n",
       "      <th>282</th>\n",
       "      <td>COV6509-2368_hg38</td>\n",
       "      <td>1</td>\n",
       "      <td>1</td>\n",
       "      <td>0.961690</td>\n",
       "    </tr>\n",
       "    <tr>\n",
       "      <th>468</th>\n",
       "      <td>COV9751-3652_hg38</td>\n",
       "      <td>1</td>\n",
       "      <td>1</td>\n",
       "      <td>0.563919</td>\n",
       "    </tr>\n",
       "    <tr>\n",
       "      <th>280</th>\n",
       "      <td>COV6467-2342_hg38</td>\n",
       "      <td>1</td>\n",
       "      <td>1</td>\n",
       "      <td>0.932032</td>\n",
       "    </tr>\n",
       "  </tbody>\n",
       "</table>\n",
       "</div>"
      ],
      "text/plain": [
       "             sample_ID  grouping  predicted_grouping  predicted_prob\n",
       "309  COV6646-2416_hg38         1                   1        0.614523\n",
       "475  COV9998-3741_hg38         1                   1        0.754820\n",
       "282  COV6509-2368_hg38         1                   1        0.961690\n",
       "468  COV9751-3652_hg38         1                   1        0.563919\n",
       "280  COV6467-2342_hg38         1                   1        0.932032"
      ]
     },
     "execution_count": 11,
     "metadata": {},
     "output_type": "execute_result"
    }
   ],
   "source": [
    "# Logistic Reg. classifier \n",
    "\n",
    "# saving the predictions of validation set from Logistic Reg classifier as new target\n",
    "new_target = y_predict_log\n",
    "\n",
    "df_1 = pd.DataFrame(np.transpose(new_target), columns = [\"predicted_grouping\"])\n",
    "#concatenate dataframes\n",
    "df_2 = pd.concat([df_new, df_1], axis=1)\n",
    "\n",
    "\n",
    "prob_lr = pd.DataFrame(np.transpose(probs_1), columns = [\"predicted_prob\"])\n",
    "\n",
    "df = pd.concat([df_2, prob_lr ], axis=1)\n",
    "\n",
    "df.sort_values(by='predicted_grouping', ascending=False).head(5)\n",
    "#save as CSV file \n",
    "##df.to_csv(path + \"predictions_proba_logreg_16_full_supported_new_data_Fold_1.csv\", index = True)"
   ]
  },
  {
   "cell_type": "code",
   "execution_count": 12,
   "metadata": {},
   "outputs": [
    {
     "data": {
      "text/html": [
       "<div>\n",
       "<style scoped>\n",
       "    .dataframe tbody tr th:only-of-type {\n",
       "        vertical-align: middle;\n",
       "    }\n",
       "\n",
       "    .dataframe tbody tr th {\n",
       "        vertical-align: top;\n",
       "    }\n",
       "\n",
       "    .dataframe thead th {\n",
       "        text-align: right;\n",
       "    }\n",
       "</style>\n",
       "<table border=\"1\" class=\"dataframe\">\n",
       "  <thead>\n",
       "    <tr style=\"text-align: right;\">\n",
       "      <th></th>\n",
       "      <th>sample_ID</th>\n",
       "      <th>grouping</th>\n",
       "      <th>predicted_grouping</th>\n",
       "      <th>predicted_prob</th>\n",
       "    </tr>\n",
       "  </thead>\n",
       "  <tbody>\n",
       "    <tr>\n",
       "      <th>502</th>\n",
       "      <td>S101_hg38</td>\n",
       "      <td>1</td>\n",
       "      <td>1</td>\n",
       "      <td>0.606057</td>\n",
       "    </tr>\n",
       "    <tr>\n",
       "      <th>329</th>\n",
       "      <td>COV6905-2476_hg38</td>\n",
       "      <td>1</td>\n",
       "      <td>1</td>\n",
       "      <td>0.657293</td>\n",
       "    </tr>\n",
       "    <tr>\n",
       "      <th>301</th>\n",
       "      <td>COV6552-2397_hg38</td>\n",
       "      <td>1</td>\n",
       "      <td>1</td>\n",
       "      <td>0.699029</td>\n",
       "    </tr>\n",
       "    <tr>\n",
       "      <th>299</th>\n",
       "      <td>COV6546-2395_hg38</td>\n",
       "      <td>1</td>\n",
       "      <td>1</td>\n",
       "      <td>0.808256</td>\n",
       "    </tr>\n",
       "    <tr>\n",
       "      <th>298</th>\n",
       "      <td>COV6541-2394_hg38</td>\n",
       "      <td>1</td>\n",
       "      <td>1</td>\n",
       "      <td>0.765444</td>\n",
       "    </tr>\n",
       "  </tbody>\n",
       "</table>\n",
       "</div>"
      ],
      "text/plain": [
       "             sample_ID  grouping  predicted_grouping  predicted_prob\n",
       "502          S101_hg38         1                   1        0.606057\n",
       "329  COV6905-2476_hg38         1                   1        0.657293\n",
       "301  COV6552-2397_hg38         1                   1        0.699029\n",
       "299  COV6546-2395_hg38         1                   1        0.808256\n",
       "298  COV6541-2394_hg38         1                   1        0.765444"
      ]
     },
     "execution_count": 12,
     "metadata": {},
     "output_type": "execute_result"
    }
   ],
   "source": [
    "# Random Forest classifier \n",
    "\n",
    "# saving the predictions of validation set from Random Forest classifier as new target\n",
    "new_target = y_predict_rf\n",
    "\n",
    "df_1 = pd.DataFrame(np.transpose(new_target), columns = [\"predicted_grouping\"])\n",
    "#concatenate dataframes\n",
    "df_2 = pd.concat([df_new, df_1], axis=1)\n",
    "\n",
    "\n",
    "prob_rf = pd.DataFrame(np.transpose(probs_2), columns = [\"predicted_prob\"])\n",
    "\n",
    "df = pd.concat([df_2, prob_rf ], axis=1)\n",
    "\n",
    "df.sort_values(by='predicted_grouping', ascending=False).head(5)\n",
    "#save as CSV file \n",
    "#df.to_csv(path + \"predictions_proba_RF_16_full_supported_new_data_Fold_1.csv\", index = True)"
   ]
  },
  {
   "cell_type": "code",
   "execution_count": 13,
   "metadata": {},
   "outputs": [
    {
     "data": {
      "text/html": [
       "<div>\n",
       "<style scoped>\n",
       "    .dataframe tbody tr th:only-of-type {\n",
       "        vertical-align: middle;\n",
       "    }\n",
       "\n",
       "    .dataframe tbody tr th {\n",
       "        vertical-align: top;\n",
       "    }\n",
       "\n",
       "    .dataframe thead th {\n",
       "        text-align: right;\n",
       "    }\n",
       "</style>\n",
       "<table border=\"1\" class=\"dataframe\">\n",
       "  <thead>\n",
       "    <tr style=\"text-align: right;\">\n",
       "      <th></th>\n",
       "      <th>sample_ID</th>\n",
       "      <th>grouping</th>\n",
       "      <th>predicted_grouping</th>\n",
       "      <th>predicted_prob</th>\n",
       "    </tr>\n",
       "  </thead>\n",
       "  <tbody>\n",
       "    <tr>\n",
       "      <th>501</th>\n",
       "      <td>S100_hg38</td>\n",
       "      <td>1</td>\n",
       "      <td>1</td>\n",
       "      <td>0.818224</td>\n",
       "    </tr>\n",
       "    <tr>\n",
       "      <th>269</th>\n",
       "      <td>COV6317-2312_hg38</td>\n",
       "      <td>1</td>\n",
       "      <td>1</td>\n",
       "      <td>0.878965</td>\n",
       "    </tr>\n",
       "    <tr>\n",
       "      <th>475</th>\n",
       "      <td>COV9998-3741_hg38</td>\n",
       "      <td>1</td>\n",
       "      <td>1</td>\n",
       "      <td>0.776853</td>\n",
       "    </tr>\n",
       "    <tr>\n",
       "      <th>302</th>\n",
       "      <td>COV6567-2400_hg38</td>\n",
       "      <td>1</td>\n",
       "      <td>1</td>\n",
       "      <td>0.618195</td>\n",
       "    </tr>\n",
       "    <tr>\n",
       "      <th>301</th>\n",
       "      <td>COV6552-2397_hg38</td>\n",
       "      <td>1</td>\n",
       "      <td>1</td>\n",
       "      <td>0.783668</td>\n",
       "    </tr>\n",
       "  </tbody>\n",
       "</table>\n",
       "</div>"
      ],
      "text/plain": [
       "             sample_ID  grouping  predicted_grouping  predicted_prob\n",
       "501          S100_hg38         1                   1        0.818224\n",
       "269  COV6317-2312_hg38         1                   1        0.878965\n",
       "475  COV9998-3741_hg38         1                   1        0.776853\n",
       "302  COV6567-2400_hg38         1                   1        0.618195\n",
       "301  COV6552-2397_hg38         1                   1        0.783668"
      ]
     },
     "execution_count": 13,
     "metadata": {},
     "output_type": "execute_result"
    }
   ],
   "source": [
    "# XGBoost Forest classifier \n",
    "\n",
    "# saving the predictions of validation set from XGBoost classifier as new target\n",
    "new_target = y_predict_xgboost\n",
    "\n",
    "df_1 = pd.DataFrame(np.transpose(new_target), columns = [\"predicted_grouping\"])\n",
    "#concatenate dataframes\n",
    "df_2 = pd.concat([df_new, df_1], axis=1)\n",
    "\n",
    "\n",
    "prob_xgb = pd.DataFrame(np.transpose(probs_3), columns = [\"predicted_prob\"])\n",
    "\n",
    "df = pd.concat([df_2, prob_xgb], axis=1)\n",
    "\n",
    "df.sort_values(by='predicted_grouping', ascending=False).head(5)\n",
    "#save as CSV file \n",
    "#df.to_csv(path + \"predictions_proba_XGB_16_full_supported_new_data_Fold_1.csv\", index = True)"
   ]
  },
  {
   "cell_type": "code",
   "execution_count": null,
   "metadata": {},
   "outputs": [],
   "source": []
  }
 ],
 "metadata": {
  "kernelspec": {
   "display_name": "Python 3",
   "language": "python",
   "name": "python3"
  },
  "language_info": {
   "codemirror_mode": {
    "name": "ipython",
    "version": 3
   },
   "file_extension": ".py",
   "mimetype": "text/x-python",
   "name": "python",
   "nbconvert_exporter": "python",
   "pygments_lexer": "ipython3",
   "version": "3.7.6"
  }
 },
 "nbformat": 4,
 "nbformat_minor": 4
}
